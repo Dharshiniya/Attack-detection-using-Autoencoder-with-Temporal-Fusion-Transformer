{
  "cells": [
    {
      "cell_type": "markdown",
      "metadata": {
        "id": "EA_r4M8nvVFs"
      },
      "source": [
        "Data Preparation"
      ]
    },
    {
      "cell_type": "code",
      "execution_count": null,
      "metadata": {
        "id": "E4-iahlHLfxG"
      },
      "outputs": [],
      "source": [
        "import pandas as pd\n",
        "from sklearn.preprocessing import StandardScaler, LabelEncoder\n"
      ]
    },
    {
      "cell_type": "code",
      "execution_count": null,
      "metadata": {
        "id": "Fh-16iwaMQGH"
      },
      "outputs": [],
      "source": [
        "import numpy as np\n",
        "import pandas as pd\n",
        "from sklearn.preprocessing import StandardScaler\n",
        "from sklearn.model_selection import train_test_split\n",
        "from tensorflow.keras.layers import Input, Dense\n",
        "from tensorflow.keras.models import Model\n",
        "from tensorflow.keras.optimizers import Adam\n",
        "import tensorflow as tf"
      ]
    },
    {
      "cell_type": "code",
      "execution_count": null,
      "metadata": {
        "id": "w1QWVFb24KGi"
      },
      "outputs": [],
      "source": [
        "import pandas as pd\n",
        "\n",
        "\n",
        "data1 = pd.read_csv('/content/drive/MyDrive/CSV Files/Training and Testing Sets/UNSW_NB15_training-set.csv')\n",
        "\n",
        "\n",
        "data2 = pd.read_csv('/content/drive/MyDrive/CSV Files/Training and Testing Sets/UNSW_NB15_testing-set.csv')\n"
      ]
    },
    {
      "cell_type": "code",
      "execution_count": null,
      "metadata": {
        "id": "XZx7F0xyKLEl"
      },
      "outputs": [],
      "source": [
        "data = pd.concat([data1, data2])"
      ]
    },
    {
      "cell_type": "code",
      "execution_count": null,
      "metadata": {
        "colab": {
          "base_uri": "https://localhost:8080/"
        },
        "id": "HTjlASEUKYLg",
        "outputId": "2bcc2b6d-c5a4-4e90-daf4-aee1f932d27b"
      },
      "outputs": [
        {
          "output_type": "stream",
          "name": "stdout",
          "text": [
            "   id       dur proto service state  spkts  dpkts  sbytes  dbytes       rate  \\\n",
            "0   1  0.121478   tcp       -   FIN      6      4     258     172  74.087490   \n",
            "1   2  0.649902   tcp       -   FIN     14     38     734   42014  78.473372   \n",
            "2   3  1.623129   tcp       -   FIN      8     16     364   13186  14.170161   \n",
            "3   4  1.681642   tcp     ftp   FIN     12     12     628     770  13.677108   \n",
            "4   5  0.449454   tcp       -   FIN     10      6     534     268  33.373826   \n",
            "\n",
            "   ...  ct_dst_sport_ltm  ct_dst_src_ltm  is_ftp_login  ct_ftp_cmd  \\\n",
            "0  ...                 1               1             0           0   \n",
            "1  ...                 1               2             0           0   \n",
            "2  ...                 1               3             0           0   \n",
            "3  ...                 1               3             1           1   \n",
            "4  ...                 1              40             0           0   \n",
            "\n",
            "   ct_flw_http_mthd  ct_src_ltm  ct_srv_dst  is_sm_ips_ports  attack_cat  \\\n",
            "0                 0           1           1                0      Normal   \n",
            "1                 0           1           6                0      Normal   \n",
            "2                 0           2           6                0      Normal   \n",
            "3                 0           2           1                0      Normal   \n",
            "4                 0           2          39                0      Normal   \n",
            "\n",
            "   label  \n",
            "0      0  \n",
            "1      0  \n",
            "2      0  \n",
            "3      0  \n",
            "4      0  \n",
            "\n",
            "[5 rows x 45 columns]\n"
          ]
        }
      ],
      "source": [
        "print(data.head())"
      ]
    },
    {
      "cell_type": "code",
      "execution_count": null,
      "metadata": {
        "colab": {
          "base_uri": "https://localhost:8080/"
        },
        "id": "fIxXhQe71fXH",
        "outputId": "45aad12a-7f0a-4c14-b343-f36b8b9857b6"
      },
      "outputs": [
        {
          "output_type": "stream",
          "name": "stdout",
          "text": [
            "<class 'pandas.core.frame.DataFrame'>\n",
            "Index: 257673 entries, 0 to 82331\n",
            "Data columns (total 45 columns):\n",
            " #   Column             Non-Null Count   Dtype  \n",
            "---  ------             --------------   -----  \n",
            " 0   id                 257673 non-null  int64  \n",
            " 1   dur                257673 non-null  float64\n",
            " 2   proto              257673 non-null  object \n",
            " 3   service            257673 non-null  object \n",
            " 4   state              257673 non-null  object \n",
            " 5   spkts              257673 non-null  int64  \n",
            " 6   dpkts              257673 non-null  int64  \n",
            " 7   sbytes             257673 non-null  int64  \n",
            " 8   dbytes             257673 non-null  int64  \n",
            " 9   rate               257673 non-null  float64\n",
            " 10  sttl               257673 non-null  int64  \n",
            " 11  dttl               257673 non-null  int64  \n",
            " 12  sload              257673 non-null  float64\n",
            " 13  dload              257673 non-null  float64\n",
            " 14  sloss              257673 non-null  int64  \n",
            " 15  dloss              257673 non-null  int64  \n",
            " 16  sinpkt             257673 non-null  float64\n",
            " 17  dinpkt             257673 non-null  float64\n",
            " 18  sjit               257673 non-null  float64\n",
            " 19  djit               257673 non-null  float64\n",
            " 20  swin               257673 non-null  int64  \n",
            " 21  stcpb              257673 non-null  int64  \n",
            " 22  dtcpb              257673 non-null  int64  \n",
            " 23  dwin               257673 non-null  int64  \n",
            " 24  tcprtt             257673 non-null  float64\n",
            " 25  synack             257673 non-null  float64\n",
            " 26  ackdat             257673 non-null  float64\n",
            " 27  smean              257673 non-null  int64  \n",
            " 28  dmean              257673 non-null  int64  \n",
            " 29  trans_depth        257673 non-null  int64  \n",
            " 30  response_body_len  257673 non-null  int64  \n",
            " 31  ct_srv_src         257673 non-null  int64  \n",
            " 32  ct_state_ttl       257673 non-null  int64  \n",
            " 33  ct_dst_ltm         257673 non-null  int64  \n",
            " 34  ct_src_dport_ltm   257673 non-null  int64  \n",
            " 35  ct_dst_sport_ltm   257673 non-null  int64  \n",
            " 36  ct_dst_src_ltm     257673 non-null  int64  \n",
            " 37  is_ftp_login       257673 non-null  int64  \n",
            " 38  ct_ftp_cmd         257673 non-null  int64  \n",
            " 39  ct_flw_http_mthd   257673 non-null  int64  \n",
            " 40  ct_src_ltm         257673 non-null  int64  \n",
            " 41  ct_srv_dst         257673 non-null  int64  \n",
            " 42  is_sm_ips_ports    257673 non-null  int64  \n",
            " 43  attack_cat         257673 non-null  object \n",
            " 44  label              257673 non-null  int64  \n",
            "dtypes: float64(11), int64(30), object(4)\n",
            "memory usage: 90.4+ MB\n"
          ]
        }
      ],
      "source": [
        "data.info()"
      ]
    },
    {
      "cell_type": "code",
      "execution_count": null,
      "metadata": {
        "colab": {
          "base_uri": "https://localhost:8080/",
          "height": 443
        },
        "id": "bhykXvtK1kax",
        "outputId": "6817758a-74d2-4d96-87d3-09b4aade5aa4"
      },
      "outputs": [
        {
          "output_type": "execute_result",
          "data": {
            "text/plain": [
              "                   id            dur   proto service   state          spkts  \\\n",
              "count   257673.000000  257673.000000  257673  257673  257673  257673.000000   \n",
              "unique            NaN            NaN     133      13      11            NaN   \n",
              "top               NaN            NaN     tcp       -     FIN            NaN   \n",
              "freq              NaN            NaN  123041  141321  117164            NaN   \n",
              "mean     72811.823858       1.246715     NaN     NaN     NaN      19.777144   \n",
              "std      48929.917641       5.974305     NaN     NaN     NaN     135.947152   \n",
              "min          1.000000       0.000000     NaN     NaN     NaN       1.000000   \n",
              "25%      32210.000000       0.000008     NaN     NaN     NaN       2.000000   \n",
              "50%      64419.000000       0.004285     NaN     NaN     NaN       4.000000   \n",
              "75%     110923.000000       0.685777     NaN     NaN     NaN      12.000000   \n",
              "max     175341.000000      59.999989     NaN     NaN     NaN   10646.000000   \n",
              "\n",
              "                dpkts        sbytes        dbytes          rate  ...  \\\n",
              "count   257673.000000  2.576730e+05  2.576730e+05  2.576730e+05  ...   \n",
              "unique            NaN           NaN           NaN           NaN  ...   \n",
              "top               NaN           NaN           NaN           NaN  ...   \n",
              "freq              NaN           NaN           NaN           NaN  ...   \n",
              "mean        18.514703  8.572952e+03  1.438729e+04  9.125391e+04  ...   \n",
              "std        111.985965  1.737739e+05  1.461993e+05  1.603446e+05  ...   \n",
              "min          0.000000  2.400000e+01  0.000000e+00  0.000000e+00  ...   \n",
              "25%          0.000000  1.140000e+02  0.000000e+00  3.078928e+01  ...   \n",
              "50%          2.000000  5.280000e+02  1.780000e+02  2.955665e+03  ...   \n",
              "75%         10.000000  1.362000e+03  1.064000e+03  1.250000e+05  ...   \n",
              "max      11018.000000  1.435577e+07  1.465753e+07  1.000000e+06  ...   \n",
              "\n",
              "        ct_dst_sport_ltm  ct_dst_src_ltm   is_ftp_login     ct_ftp_cmd  \\\n",
              "count      257673.000000   257673.000000  257673.000000  257673.000000   \n",
              "unique               NaN             NaN            NaN            NaN   \n",
              "top                  NaN             NaN            NaN            NaN   \n",
              "freq                 NaN             NaN            NaN            NaN   \n",
              "mean            4.032677        8.322964       0.012819       0.012850   \n",
              "std             5.831515       11.120754       0.116091       0.116421   \n",
              "min             1.000000        1.000000       0.000000       0.000000   \n",
              "25%             1.000000        1.000000       0.000000       0.000000   \n",
              "50%             1.000000        3.000000       0.000000       0.000000   \n",
              "75%             3.000000        8.000000       0.000000       0.000000   \n",
              "max            46.000000       65.000000       4.000000       4.000000   \n",
              "\n",
              "        ct_flw_http_mthd     ct_src_ltm     ct_srv_dst  is_sm_ips_ports  \\\n",
              "count      257673.000000  257673.000000  257673.000000    257673.000000   \n",
              "unique               NaN            NaN            NaN              NaN   \n",
              "top                  NaN            NaN            NaN              NaN   \n",
              "freq                 NaN            NaN            NaN              NaN   \n",
              "mean            0.132005       6.800045       9.121049         0.014274   \n",
              "std             0.681854       8.396266      10.874752         0.118618   \n",
              "min             0.000000       1.000000       1.000000         0.000000   \n",
              "25%             0.000000       2.000000       2.000000         0.000000   \n",
              "50%             0.000000       3.000000       4.000000         0.000000   \n",
              "75%             0.000000       8.000000      11.000000         0.000000   \n",
              "max            30.000000      60.000000      62.000000         1.000000   \n",
              "\n",
              "        attack_cat          label  \n",
              "count       257673  257673.000000  \n",
              "unique          10            NaN  \n",
              "top         Normal            NaN  \n",
              "freq         93000            NaN  \n",
              "mean           NaN       0.639077  \n",
              "std            NaN       0.480269  \n",
              "min            NaN       0.000000  \n",
              "25%            NaN       0.000000  \n",
              "50%            NaN       1.000000  \n",
              "75%            NaN       1.000000  \n",
              "max            NaN       1.000000  \n",
              "\n",
              "[11 rows x 45 columns]"
            ],
            "text/html": [
              "\n",
              "  <div id=\"df-57a6714d-79dd-4725-9052-7928ac632d44\" class=\"colab-df-container\">\n",
              "    <div>\n",
              "<style scoped>\n",
              "    .dataframe tbody tr th:only-of-type {\n",
              "        vertical-align: middle;\n",
              "    }\n",
              "\n",
              "    .dataframe tbody tr th {\n",
              "        vertical-align: top;\n",
              "    }\n",
              "\n",
              "    .dataframe thead th {\n",
              "        text-align: right;\n",
              "    }\n",
              "</style>\n",
              "<table border=\"1\" class=\"dataframe\">\n",
              "  <thead>\n",
              "    <tr style=\"text-align: right;\">\n",
              "      <th></th>\n",
              "      <th>id</th>\n",
              "      <th>dur</th>\n",
              "      <th>proto</th>\n",
              "      <th>service</th>\n",
              "      <th>state</th>\n",
              "      <th>spkts</th>\n",
              "      <th>dpkts</th>\n",
              "      <th>sbytes</th>\n",
              "      <th>dbytes</th>\n",
              "      <th>rate</th>\n",
              "      <th>...</th>\n",
              "      <th>ct_dst_sport_ltm</th>\n",
              "      <th>ct_dst_src_ltm</th>\n",
              "      <th>is_ftp_login</th>\n",
              "      <th>ct_ftp_cmd</th>\n",
              "      <th>ct_flw_http_mthd</th>\n",
              "      <th>ct_src_ltm</th>\n",
              "      <th>ct_srv_dst</th>\n",
              "      <th>is_sm_ips_ports</th>\n",
              "      <th>attack_cat</th>\n",
              "      <th>label</th>\n",
              "    </tr>\n",
              "  </thead>\n",
              "  <tbody>\n",
              "    <tr>\n",
              "      <th>count</th>\n",
              "      <td>257673.000000</td>\n",
              "      <td>257673.000000</td>\n",
              "      <td>257673</td>\n",
              "      <td>257673</td>\n",
              "      <td>257673</td>\n",
              "      <td>257673.000000</td>\n",
              "      <td>257673.000000</td>\n",
              "      <td>2.576730e+05</td>\n",
              "      <td>2.576730e+05</td>\n",
              "      <td>2.576730e+05</td>\n",
              "      <td>...</td>\n",
              "      <td>257673.000000</td>\n",
              "      <td>257673.000000</td>\n",
              "      <td>257673.000000</td>\n",
              "      <td>257673.000000</td>\n",
              "      <td>257673.000000</td>\n",
              "      <td>257673.000000</td>\n",
              "      <td>257673.000000</td>\n",
              "      <td>257673.000000</td>\n",
              "      <td>257673</td>\n",
              "      <td>257673.000000</td>\n",
              "    </tr>\n",
              "    <tr>\n",
              "      <th>unique</th>\n",
              "      <td>NaN</td>\n",
              "      <td>NaN</td>\n",
              "      <td>133</td>\n",
              "      <td>13</td>\n",
              "      <td>11</td>\n",
              "      <td>NaN</td>\n",
              "      <td>NaN</td>\n",
              "      <td>NaN</td>\n",
              "      <td>NaN</td>\n",
              "      <td>NaN</td>\n",
              "      <td>...</td>\n",
              "      <td>NaN</td>\n",
              "      <td>NaN</td>\n",
              "      <td>NaN</td>\n",
              "      <td>NaN</td>\n",
              "      <td>NaN</td>\n",
              "      <td>NaN</td>\n",
              "      <td>NaN</td>\n",
              "      <td>NaN</td>\n",
              "      <td>10</td>\n",
              "      <td>NaN</td>\n",
              "    </tr>\n",
              "    <tr>\n",
              "      <th>top</th>\n",
              "      <td>NaN</td>\n",
              "      <td>NaN</td>\n",
              "      <td>tcp</td>\n",
              "      <td>-</td>\n",
              "      <td>FIN</td>\n",
              "      <td>NaN</td>\n",
              "      <td>NaN</td>\n",
              "      <td>NaN</td>\n",
              "      <td>NaN</td>\n",
              "      <td>NaN</td>\n",
              "      <td>...</td>\n",
              "      <td>NaN</td>\n",
              "      <td>NaN</td>\n",
              "      <td>NaN</td>\n",
              "      <td>NaN</td>\n",
              "      <td>NaN</td>\n",
              "      <td>NaN</td>\n",
              "      <td>NaN</td>\n",
              "      <td>NaN</td>\n",
              "      <td>Normal</td>\n",
              "      <td>NaN</td>\n",
              "    </tr>\n",
              "    <tr>\n",
              "      <th>freq</th>\n",
              "      <td>NaN</td>\n",
              "      <td>NaN</td>\n",
              "      <td>123041</td>\n",
              "      <td>141321</td>\n",
              "      <td>117164</td>\n",
              "      <td>NaN</td>\n",
              "      <td>NaN</td>\n",
              "      <td>NaN</td>\n",
              "      <td>NaN</td>\n",
              "      <td>NaN</td>\n",
              "      <td>...</td>\n",
              "      <td>NaN</td>\n",
              "      <td>NaN</td>\n",
              "      <td>NaN</td>\n",
              "      <td>NaN</td>\n",
              "      <td>NaN</td>\n",
              "      <td>NaN</td>\n",
              "      <td>NaN</td>\n",
              "      <td>NaN</td>\n",
              "      <td>93000</td>\n",
              "      <td>NaN</td>\n",
              "    </tr>\n",
              "    <tr>\n",
              "      <th>mean</th>\n",
              "      <td>72811.823858</td>\n",
              "      <td>1.246715</td>\n",
              "      <td>NaN</td>\n",
              "      <td>NaN</td>\n",
              "      <td>NaN</td>\n",
              "      <td>19.777144</td>\n",
              "      <td>18.514703</td>\n",
              "      <td>8.572952e+03</td>\n",
              "      <td>1.438729e+04</td>\n",
              "      <td>9.125391e+04</td>\n",
              "      <td>...</td>\n",
              "      <td>4.032677</td>\n",
              "      <td>8.322964</td>\n",
              "      <td>0.012819</td>\n",
              "      <td>0.012850</td>\n",
              "      <td>0.132005</td>\n",
              "      <td>6.800045</td>\n",
              "      <td>9.121049</td>\n",
              "      <td>0.014274</td>\n",
              "      <td>NaN</td>\n",
              "      <td>0.639077</td>\n",
              "    </tr>\n",
              "    <tr>\n",
              "      <th>std</th>\n",
              "      <td>48929.917641</td>\n",
              "      <td>5.974305</td>\n",
              "      <td>NaN</td>\n",
              "      <td>NaN</td>\n",
              "      <td>NaN</td>\n",
              "      <td>135.947152</td>\n",
              "      <td>111.985965</td>\n",
              "      <td>1.737739e+05</td>\n",
              "      <td>1.461993e+05</td>\n",
              "      <td>1.603446e+05</td>\n",
              "      <td>...</td>\n",
              "      <td>5.831515</td>\n",
              "      <td>11.120754</td>\n",
              "      <td>0.116091</td>\n",
              "      <td>0.116421</td>\n",
              "      <td>0.681854</td>\n",
              "      <td>8.396266</td>\n",
              "      <td>10.874752</td>\n",
              "      <td>0.118618</td>\n",
              "      <td>NaN</td>\n",
              "      <td>0.480269</td>\n",
              "    </tr>\n",
              "    <tr>\n",
              "      <th>min</th>\n",
              "      <td>1.000000</td>\n",
              "      <td>0.000000</td>\n",
              "      <td>NaN</td>\n",
              "      <td>NaN</td>\n",
              "      <td>NaN</td>\n",
              "      <td>1.000000</td>\n",
              "      <td>0.000000</td>\n",
              "      <td>2.400000e+01</td>\n",
              "      <td>0.000000e+00</td>\n",
              "      <td>0.000000e+00</td>\n",
              "      <td>...</td>\n",
              "      <td>1.000000</td>\n",
              "      <td>1.000000</td>\n",
              "      <td>0.000000</td>\n",
              "      <td>0.000000</td>\n",
              "      <td>0.000000</td>\n",
              "      <td>1.000000</td>\n",
              "      <td>1.000000</td>\n",
              "      <td>0.000000</td>\n",
              "      <td>NaN</td>\n",
              "      <td>0.000000</td>\n",
              "    </tr>\n",
              "    <tr>\n",
              "      <th>25%</th>\n",
              "      <td>32210.000000</td>\n",
              "      <td>0.000008</td>\n",
              "      <td>NaN</td>\n",
              "      <td>NaN</td>\n",
              "      <td>NaN</td>\n",
              "      <td>2.000000</td>\n",
              "      <td>0.000000</td>\n",
              "      <td>1.140000e+02</td>\n",
              "      <td>0.000000e+00</td>\n",
              "      <td>3.078928e+01</td>\n",
              "      <td>...</td>\n",
              "      <td>1.000000</td>\n",
              "      <td>1.000000</td>\n",
              "      <td>0.000000</td>\n",
              "      <td>0.000000</td>\n",
              "      <td>0.000000</td>\n",
              "      <td>2.000000</td>\n",
              "      <td>2.000000</td>\n",
              "      <td>0.000000</td>\n",
              "      <td>NaN</td>\n",
              "      <td>0.000000</td>\n",
              "    </tr>\n",
              "    <tr>\n",
              "      <th>50%</th>\n",
              "      <td>64419.000000</td>\n",
              "      <td>0.004285</td>\n",
              "      <td>NaN</td>\n",
              "      <td>NaN</td>\n",
              "      <td>NaN</td>\n",
              "      <td>4.000000</td>\n",
              "      <td>2.000000</td>\n",
              "      <td>5.280000e+02</td>\n",
              "      <td>1.780000e+02</td>\n",
              "      <td>2.955665e+03</td>\n",
              "      <td>...</td>\n",
              "      <td>1.000000</td>\n",
              "      <td>3.000000</td>\n",
              "      <td>0.000000</td>\n",
              "      <td>0.000000</td>\n",
              "      <td>0.000000</td>\n",
              "      <td>3.000000</td>\n",
              "      <td>4.000000</td>\n",
              "      <td>0.000000</td>\n",
              "      <td>NaN</td>\n",
              "      <td>1.000000</td>\n",
              "    </tr>\n",
              "    <tr>\n",
              "      <th>75%</th>\n",
              "      <td>110923.000000</td>\n",
              "      <td>0.685777</td>\n",
              "      <td>NaN</td>\n",
              "      <td>NaN</td>\n",
              "      <td>NaN</td>\n",
              "      <td>12.000000</td>\n",
              "      <td>10.000000</td>\n",
              "      <td>1.362000e+03</td>\n",
              "      <td>1.064000e+03</td>\n",
              "      <td>1.250000e+05</td>\n",
              "      <td>...</td>\n",
              "      <td>3.000000</td>\n",
              "      <td>8.000000</td>\n",
              "      <td>0.000000</td>\n",
              "      <td>0.000000</td>\n",
              "      <td>0.000000</td>\n",
              "      <td>8.000000</td>\n",
              "      <td>11.000000</td>\n",
              "      <td>0.000000</td>\n",
              "      <td>NaN</td>\n",
              "      <td>1.000000</td>\n",
              "    </tr>\n",
              "    <tr>\n",
              "      <th>max</th>\n",
              "      <td>175341.000000</td>\n",
              "      <td>59.999989</td>\n",
              "      <td>NaN</td>\n",
              "      <td>NaN</td>\n",
              "      <td>NaN</td>\n",
              "      <td>10646.000000</td>\n",
              "      <td>11018.000000</td>\n",
              "      <td>1.435577e+07</td>\n",
              "      <td>1.465753e+07</td>\n",
              "      <td>1.000000e+06</td>\n",
              "      <td>...</td>\n",
              "      <td>46.000000</td>\n",
              "      <td>65.000000</td>\n",
              "      <td>4.000000</td>\n",
              "      <td>4.000000</td>\n",
              "      <td>30.000000</td>\n",
              "      <td>60.000000</td>\n",
              "      <td>62.000000</td>\n",
              "      <td>1.000000</td>\n",
              "      <td>NaN</td>\n",
              "      <td>1.000000</td>\n",
              "    </tr>\n",
              "  </tbody>\n",
              "</table>\n",
              "<p>11 rows × 45 columns</p>\n",
              "</div>\n",
              "    <div class=\"colab-df-buttons\">\n",
              "\n",
              "  <div class=\"colab-df-container\">\n",
              "    <button class=\"colab-df-convert\" onclick=\"convertToInteractive('df-57a6714d-79dd-4725-9052-7928ac632d44')\"\n",
              "            title=\"Convert this dataframe to an interactive table.\"\n",
              "            style=\"display:none;\">\n",
              "\n",
              "  <svg xmlns=\"http://www.w3.org/2000/svg\" height=\"24px\" viewBox=\"0 -960 960 960\">\n",
              "    <path d=\"M120-120v-720h720v720H120Zm60-500h600v-160H180v160Zm220 220h160v-160H400v160Zm0 220h160v-160H400v160ZM180-400h160v-160H180v160Zm440 0h160v-160H620v160ZM180-180h160v-160H180v160Zm440 0h160v-160H620v160Z\"/>\n",
              "  </svg>\n",
              "    </button>\n",
              "\n",
              "  <style>\n",
              "    .colab-df-container {\n",
              "      display:flex;\n",
              "      gap: 12px;\n",
              "    }\n",
              "\n",
              "    .colab-df-convert {\n",
              "      background-color: #E8F0FE;\n",
              "      border: none;\n",
              "      border-radius: 50%;\n",
              "      cursor: pointer;\n",
              "      display: none;\n",
              "      fill: #1967D2;\n",
              "      height: 32px;\n",
              "      padding: 0 0 0 0;\n",
              "      width: 32px;\n",
              "    }\n",
              "\n",
              "    .colab-df-convert:hover {\n",
              "      background-color: #E2EBFA;\n",
              "      box-shadow: 0px 1px 2px rgba(60, 64, 67, 0.3), 0px 1px 3px 1px rgba(60, 64, 67, 0.15);\n",
              "      fill: #174EA6;\n",
              "    }\n",
              "\n",
              "    .colab-df-buttons div {\n",
              "      margin-bottom: 4px;\n",
              "    }\n",
              "\n",
              "    [theme=dark] .colab-df-convert {\n",
              "      background-color: #3B4455;\n",
              "      fill: #D2E3FC;\n",
              "    }\n",
              "\n",
              "    [theme=dark] .colab-df-convert:hover {\n",
              "      background-color: #434B5C;\n",
              "      box-shadow: 0px 1px 3px 1px rgba(0, 0, 0, 0.15);\n",
              "      filter: drop-shadow(0px 1px 2px rgba(0, 0, 0, 0.3));\n",
              "      fill: #FFFFFF;\n",
              "    }\n",
              "  </style>\n",
              "\n",
              "    <script>\n",
              "      const buttonEl =\n",
              "        document.querySelector('#df-57a6714d-79dd-4725-9052-7928ac632d44 button.colab-df-convert');\n",
              "      buttonEl.style.display =\n",
              "        google.colab.kernel.accessAllowed ? 'block' : 'none';\n",
              "\n",
              "      async function convertToInteractive(key) {\n",
              "        const element = document.querySelector('#df-57a6714d-79dd-4725-9052-7928ac632d44');\n",
              "        const dataTable =\n",
              "          await google.colab.kernel.invokeFunction('convertToInteractive',\n",
              "                                                    [key], {});\n",
              "        if (!dataTable) return;\n",
              "\n",
              "        const docLinkHtml = 'Like what you see? Visit the ' +\n",
              "          '<a target=\"_blank\" href=https://colab.research.google.com/notebooks/data_table.ipynb>data table notebook</a>'\n",
              "          + ' to learn more about interactive tables.';\n",
              "        element.innerHTML = '';\n",
              "        dataTable['output_type'] = 'display_data';\n",
              "        await google.colab.output.renderOutput(dataTable, element);\n",
              "        const docLink = document.createElement('div');\n",
              "        docLink.innerHTML = docLinkHtml;\n",
              "        element.appendChild(docLink);\n",
              "      }\n",
              "    </script>\n",
              "  </div>\n",
              "\n",
              "\n",
              "<div id=\"df-f542a60e-8761-4b42-9435-1615dbddbfd6\">\n",
              "  <button class=\"colab-df-quickchart\" onclick=\"quickchart('df-f542a60e-8761-4b42-9435-1615dbddbfd6')\"\n",
              "            title=\"Suggest charts\"\n",
              "            style=\"display:none;\">\n",
              "\n",
              "<svg xmlns=\"http://www.w3.org/2000/svg\" height=\"24px\"viewBox=\"0 0 24 24\"\n",
              "     width=\"24px\">\n",
              "    <g>\n",
              "        <path d=\"M19 3H5c-1.1 0-2 .9-2 2v14c0 1.1.9 2 2 2h14c1.1 0 2-.9 2-2V5c0-1.1-.9-2-2-2zM9 17H7v-7h2v7zm4 0h-2V7h2v10zm4 0h-2v-4h2v4z\"/>\n",
              "    </g>\n",
              "</svg>\n",
              "  </button>\n",
              "\n",
              "<style>\n",
              "  .colab-df-quickchart {\n",
              "      --bg-color: #E8F0FE;\n",
              "      --fill-color: #1967D2;\n",
              "      --hover-bg-color: #E2EBFA;\n",
              "      --hover-fill-color: #174EA6;\n",
              "      --disabled-fill-color: #AAA;\n",
              "      --disabled-bg-color: #DDD;\n",
              "  }\n",
              "\n",
              "  [theme=dark] .colab-df-quickchart {\n",
              "      --bg-color: #3B4455;\n",
              "      --fill-color: #D2E3FC;\n",
              "      --hover-bg-color: #434B5C;\n",
              "      --hover-fill-color: #FFFFFF;\n",
              "      --disabled-bg-color: #3B4455;\n",
              "      --disabled-fill-color: #666;\n",
              "  }\n",
              "\n",
              "  .colab-df-quickchart {\n",
              "    background-color: var(--bg-color);\n",
              "    border: none;\n",
              "    border-radius: 50%;\n",
              "    cursor: pointer;\n",
              "    display: none;\n",
              "    fill: var(--fill-color);\n",
              "    height: 32px;\n",
              "    padding: 0;\n",
              "    width: 32px;\n",
              "  }\n",
              "\n",
              "  .colab-df-quickchart:hover {\n",
              "    background-color: var(--hover-bg-color);\n",
              "    box-shadow: 0 1px 2px rgba(60, 64, 67, 0.3), 0 1px 3px 1px rgba(60, 64, 67, 0.15);\n",
              "    fill: var(--button-hover-fill-color);\n",
              "  }\n",
              "\n",
              "  .colab-df-quickchart-complete:disabled,\n",
              "  .colab-df-quickchart-complete:disabled:hover {\n",
              "    background-color: var(--disabled-bg-color);\n",
              "    fill: var(--disabled-fill-color);\n",
              "    box-shadow: none;\n",
              "  }\n",
              "\n",
              "  .colab-df-spinner {\n",
              "    border: 2px solid var(--fill-color);\n",
              "    border-color: transparent;\n",
              "    border-bottom-color: var(--fill-color);\n",
              "    animation:\n",
              "      spin 1s steps(1) infinite;\n",
              "  }\n",
              "\n",
              "  @keyframes spin {\n",
              "    0% {\n",
              "      border-color: transparent;\n",
              "      border-bottom-color: var(--fill-color);\n",
              "      border-left-color: var(--fill-color);\n",
              "    }\n",
              "    20% {\n",
              "      border-color: transparent;\n",
              "      border-left-color: var(--fill-color);\n",
              "      border-top-color: var(--fill-color);\n",
              "    }\n",
              "    30% {\n",
              "      border-color: transparent;\n",
              "      border-left-color: var(--fill-color);\n",
              "      border-top-color: var(--fill-color);\n",
              "      border-right-color: var(--fill-color);\n",
              "    }\n",
              "    40% {\n",
              "      border-color: transparent;\n",
              "      border-right-color: var(--fill-color);\n",
              "      border-top-color: var(--fill-color);\n",
              "    }\n",
              "    60% {\n",
              "      border-color: transparent;\n",
              "      border-right-color: var(--fill-color);\n",
              "    }\n",
              "    80% {\n",
              "      border-color: transparent;\n",
              "      border-right-color: var(--fill-color);\n",
              "      border-bottom-color: var(--fill-color);\n",
              "    }\n",
              "    90% {\n",
              "      border-color: transparent;\n",
              "      border-bottom-color: var(--fill-color);\n",
              "    }\n",
              "  }\n",
              "</style>\n",
              "\n",
              "  <script>\n",
              "    async function quickchart(key) {\n",
              "      const quickchartButtonEl =\n",
              "        document.querySelector('#' + key + ' button');\n",
              "      quickchartButtonEl.disabled = true;  // To prevent multiple clicks.\n",
              "      quickchartButtonEl.classList.add('colab-df-spinner');\n",
              "      try {\n",
              "        const charts = await google.colab.kernel.invokeFunction(\n",
              "            'suggestCharts', [key], {});\n",
              "      } catch (error) {\n",
              "        console.error('Error during call to suggestCharts:', error);\n",
              "      }\n",
              "      quickchartButtonEl.classList.remove('colab-df-spinner');\n",
              "      quickchartButtonEl.classList.add('colab-df-quickchart-complete');\n",
              "    }\n",
              "    (() => {\n",
              "      let quickchartButtonEl =\n",
              "        document.querySelector('#df-f542a60e-8761-4b42-9435-1615dbddbfd6 button');\n",
              "      quickchartButtonEl.style.display =\n",
              "        google.colab.kernel.accessAllowed ? 'block' : 'none';\n",
              "    })();\n",
              "  </script>\n",
              "</div>\n",
              "\n",
              "    </div>\n",
              "  </div>\n"
            ],
            "application/vnd.google.colaboratory.intrinsic+json": {
              "type": "dataframe"
            }
          },
          "metadata": {},
          "execution_count": 7
        }
      ],
      "source": [
        "data.describe(include='all')"
      ]
    },
    {
      "cell_type": "markdown",
      "metadata": {
        "id": "23NpSP-g1tNI"
      },
      "source": [
        "data visualization"
      ]
    },
    {
      "cell_type": "code",
      "execution_count": null,
      "metadata": {
        "colab": {
          "base_uri": "https://localhost:8080/",
          "height": 479
        },
        "id": "vuxGaAIf1o1K",
        "outputId": "12106e56-6828-4b56-a270-c7353829a47b"
      },
      "outputs": [
        {
          "output_type": "display_data",
          "data": {
            "text/plain": [
              "<Figure size 1000x600 with 1 Axes>"
            ],
            "image/png": "[encoded data removed]"
          },
          "metadata": {}
        }
      ],
      "source": [
        "import matplotlib.pyplot as plt\n",
        "import seaborn as sns\n",
        "\n",
        "# Value counts for attack_cat before encoding\n",
        "plt.figure(figsize=(10, 6))\n",
        "sns.countplot(x='attack_cat', data=data)\n",
        "plt.title('Attack Categories Distribution (Before Encoding)')\n",
        "plt.xticks(rotation=45)\n",
        "plt.show()\n"
      ]
    },
    {
      "cell_type": "code",
      "execution_count": null,
      "metadata": {
        "colab": {
          "base_uri": "https://localhost:8080/"
        },
        "id": "1LEkA068q3qx",
        "outputId": "c311ae71-ae84-4398-88c1-66da8ea17884"
      },
      "outputs": [
        {
          "output_type": "stream",
          "name": "stdout",
          "text": [
            "attack_cat\n",
            "Normal            93000\n",
            "Generic           58871\n",
            "Exploits          44525\n",
            "Fuzzers           24246\n",
            "DoS               16353\n",
            "Reconnaissance    13987\n",
            "Analysis           2677\n",
            "Backdoor           2329\n",
            "Shellcode          1511\n",
            "Worms               174\n",
            "Name: count, dtype: int64\n"
          ]
        }
      ],
      "source": [
        "# Check the distribution of labels\n",
        "print(data['attack_cat'].value_counts())"
      ]
    },
    {
      "cell_type": "code",
      "execution_count": null,
      "metadata": {
        "id": "VnJoAQQ0rMwM"
      },
      "outputs": [],
      "source": [
        "# Drop rows with missing values\n",
        "data = data.dropna()"
      ]
    },
    {
      "cell_type": "code",
      "execution_count": null,
      "metadata": {
        "colab": {
          "base_uri": "https://localhost:8080/",
          "height": 443
        },
        "id": "xHKurPfkg5mm",
        "outputId": "75c82ebf-78ff-4bab-fb4c-44b0b95f35ef"
      },
      "outputs": [
        {
          "output_type": "execute_result",
          "data": {
            "text/plain": [
              "                   id            dur   proto service   state          spkts  \\\n",
              "count   257673.000000  257673.000000  257673  257673  257673  257673.000000   \n",
              "unique            NaN            NaN     133      13      11            NaN   \n",
              "top               NaN            NaN     tcp       -     FIN            NaN   \n",
              "freq              NaN            NaN  123041  141321  117164            NaN   \n",
              "mean     72811.823858       1.246715     NaN     NaN     NaN      19.777144   \n",
              "std      48929.917641       5.974305     NaN     NaN     NaN     135.947152   \n",
              "min          1.000000       0.000000     NaN     NaN     NaN       1.000000   \n",
              "25%      32210.000000       0.000008     NaN     NaN     NaN       2.000000   \n",
              "50%      64419.000000       0.004285     NaN     NaN     NaN       4.000000   \n",
              "75%     110923.000000       0.685777     NaN     NaN     NaN      12.000000   \n",
              "max     175341.000000      59.999989     NaN     NaN     NaN   10646.000000   \n",
              "\n",
              "                dpkts        sbytes        dbytes          rate  ...  \\\n",
              "count   257673.000000  2.576730e+05  2.576730e+05  2.576730e+05  ...   \n",
              "unique            NaN           NaN           NaN           NaN  ...   \n",
              "top               NaN           NaN           NaN           NaN  ...   \n",
              "freq              NaN           NaN           NaN           NaN  ...   \n",
              "mean        18.514703  8.572952e+03  1.438729e+04  9.125391e+04  ...   \n",
              "std        111.985965  1.737739e+05  1.461993e+05  1.603446e+05  ...   \n",
              "min          0.000000  2.400000e+01  0.000000e+00  0.000000e+00  ...   \n",
              "25%          0.000000  1.140000e+02  0.000000e+00  3.078928e+01  ...   \n",
              "50%          2.000000  5.280000e+02  1.780000e+02  2.955665e+03  ...   \n",
              "75%         10.000000  1.362000e+03  1.064000e+03  1.250000e+05  ...   \n",
              "max      11018.000000  1.435577e+07  1.465753e+07  1.000000e+06  ...   \n",
              "\n",
              "        ct_dst_sport_ltm  ct_dst_src_ltm   is_ftp_login     ct_ftp_cmd  \\\n",
              "count      257673.000000   257673.000000  257673.000000  257673.000000   \n",
              "unique               NaN             NaN            NaN            NaN   \n",
              "top                  NaN             NaN            NaN            NaN   \n",
              "freq                 NaN             NaN            NaN            NaN   \n",
              "mean            4.032677        8.322964       0.012819       0.012850   \n",
              "std             5.831515       11.120754       0.116091       0.116421   \n",
              "min             1.000000        1.000000       0.000000       0.000000   \n",
              "25%             1.000000        1.000000       0.000000       0.000000   \n",
              "50%             1.000000        3.000000       0.000000       0.000000   \n",
              "75%             3.000000        8.000000       0.000000       0.000000   \n",
              "max            46.000000       65.000000       4.000000       4.000000   \n",
              "\n",
              "        ct_flw_http_mthd     ct_src_ltm     ct_srv_dst  is_sm_ips_ports  \\\n",
              "count      257673.000000  257673.000000  257673.000000    257673.000000   \n",
              "unique               NaN            NaN            NaN              NaN   \n",
              "top                  NaN            NaN            NaN              NaN   \n",
              "freq                 NaN            NaN            NaN              NaN   \n",
              "mean            0.132005       6.800045       9.121049         0.014274   \n",
              "std             0.681854       8.396266      10.874752         0.118618   \n",
              "min             0.000000       1.000000       1.000000         0.000000   \n",
              "25%             0.000000       2.000000       2.000000         0.000000   \n",
              "50%             0.000000       3.000000       4.000000         0.000000   \n",
              "75%             0.000000       8.000000      11.000000         0.000000   \n",
              "max            30.000000      60.000000      62.000000         1.000000   \n",
              "\n",
              "        attack_cat          label  \n",
              "count       257673  257673.000000  \n",
              "unique          10            NaN  \n",
              "top         Normal            NaN  \n",
              "freq         93000            NaN  \n",
              "mean           NaN       0.639077  \n",
              "std            NaN       0.480269  \n",
              "min            NaN       0.000000  \n",
              "25%            NaN       0.000000  \n",
              "50%            NaN       1.000000  \n",
              "75%            NaN       1.000000  \n",
              "max            NaN       1.000000  \n",
              "\n",
              "[11 rows x 45 columns]"
            ],
            "text/html": [
              "\n",
              "  <div id=\"df-ef8bc90a-ffef-4a6b-bb1c-793146d6102b\" class=\"colab-df-container\">\n",
              "    <div>\n",
              "<style scoped>\n",
              "    .dataframe tbody tr th:only-of-type {\n",
              "        vertical-align: middle;\n",
              "    }\n",
              "\n",
              "    .dataframe tbody tr th {\n",
              "        vertical-align: top;\n",
              "    }\n",
              "\n",
              "    .dataframe thead th {\n",
              "        text-align: right;\n",
              "    }\n",
              "</style>\n",
              "<table border=\"1\" class=\"dataframe\">\n",
              "  <thead>\n",
              "    <tr style=\"text-align: right;\">\n",
              "      <th></th>\n",
              "      <th>id</th>\n",
              "      <th>dur</th>\n",
              "      <th>proto</th>\n",
              "      <th>service</th>\n",
              "      <th>state</th>\n",
              "      <th>spkts</th>\n",
              "      <th>dpkts</th>\n",
              "      <th>sbytes</th>\n",
              "      <th>dbytes</th>\n",
              "      <th>rate</th>\n",
              "      <th>...</th>\n",
              "      <th>ct_dst_sport_ltm</th>\n",
              "      <th>ct_dst_src_ltm</th>\n",
              "      <th>is_ftp_login</th>\n",
              "      <th>ct_ftp_cmd</th>\n",
              "      <th>ct_flw_http_mthd</th>\n",
              "      <th>ct_src_ltm</th>\n",
              "      <th>ct_srv_dst</th>\n",
              "      <th>is_sm_ips_ports</th>\n",
              "      <th>attack_cat</th>\n",
              "      <th>label</th>\n",
              "    </tr>\n",
              "  </thead>\n",
              "  <tbody>\n",
              "    <tr>\n",
              "      <th>count</th>\n",
              "      <td>257673.000000</td>\n",
              "      <td>257673.000000</td>\n",
              "      <td>257673</td>\n",
              "      <td>257673</td>\n",
              "      <td>257673</td>\n",
              "      <td>257673.000000</td>\n",
              "      <td>257673.000000</td>\n",
              "      <td>2.576730e+05</td>\n",
              "      <td>2.576730e+05</td>\n",
              "      <td>2.576730e+05</td>\n",
              "      <td>...</td>\n",
              "      <td>257673.000000</td>\n",
              "      <td>257673.000000</td>\n",
              "      <td>257673.000000</td>\n",
              "      <td>257673.000000</td>\n",
              "      <td>257673.000000</td>\n",
              "      <td>257673.000000</td>\n",
              "      <td>257673.000000</td>\n",
              "      <td>257673.000000</td>\n",
              "      <td>257673</td>\n",
              "      <td>257673.000000</td>\n",
              "    </tr>\n",
              "    <tr>\n",
              "      <th>unique</th>\n",
              "      <td>NaN</td>\n",
              "      <td>NaN</td>\n",
              "      <td>133</td>\n",
              "      <td>13</td>\n",
              "      <td>11</td>\n",
              "      <td>NaN</td>\n",
              "      <td>NaN</td>\n",
              "      <td>NaN</td>\n",
              "      <td>NaN</td>\n",
              "      <td>NaN</td>\n",
              "      <td>...</td>\n",
              "      <td>NaN</td>\n",
              "      <td>NaN</td>\n",
              "      <td>NaN</td>\n",
              "      <td>NaN</td>\n",
              "      <td>NaN</td>\n",
              "      <td>NaN</td>\n",
              "      <td>NaN</td>\n",
              "      <td>NaN</td>\n",
              "      <td>10</td>\n",
              "      <td>NaN</td>\n",
              "    </tr>\n",
              "    <tr>\n",
              "      <th>top</th>\n",
              "      <td>NaN</td>\n",
              "      <td>NaN</td>\n",
              "      <td>tcp</td>\n",
              "      <td>-</td>\n",
              "      <td>FIN</td>\n",
              "      <td>NaN</td>\n",
              "      <td>NaN</td>\n",
              "      <td>NaN</td>\n",
              "      <td>NaN</td>\n",
              "      <td>NaN</td>\n",
              "      <td>...</td>\n",
              "      <td>NaN</td>\n",
              "      <td>NaN</td>\n",
              "      <td>NaN</td>\n",
              "      <td>NaN</td>\n",
              "      <td>NaN</td>\n",
              "      <td>NaN</td>\n",
              "      <td>NaN</td>\n",
              "      <td>NaN</td>\n",
              "      <td>Normal</td>\n",
              "      <td>NaN</td>\n",
              "    </tr>\n",
              "    <tr>\n",
              "      <th>freq</th>\n",
              "      <td>NaN</td>\n",
              "      <td>NaN</td>\n",
              "      <td>123041</td>\n",
              "      <td>141321</td>\n",
              "      <td>117164</td>\n",
              "      <td>NaN</td>\n",
              "      <td>NaN</td>\n",
              "      <td>NaN</td>\n",
              "      <td>NaN</td>\n",
              "      <td>NaN</td>\n",
              "      <td>...</td>\n",
              "      <td>NaN</td>\n",
              "      <td>NaN</td>\n",
              "      <td>NaN</td>\n",
              "      <td>NaN</td>\n",
              "      <td>NaN</td>\n",
              "      <td>NaN</td>\n",
              "      <td>NaN</td>\n",
              "      <td>NaN</td>\n",
              "      <td>93000</td>\n",
              "      <td>NaN</td>\n",
              "    </tr>\n",
              "    <tr>\n",
              "      <th>mean</th>\n",
              "      <td>72811.823858</td>\n",
              "      <td>1.246715</td>\n",
              "      <td>NaN</td>\n",
              "      <td>NaN</td>\n",
              "      <td>NaN</td>\n",
              "      <td>19.777144</td>\n",
              "      <td>18.514703</td>\n",
              "      <td>8.572952e+03</td>\n",
              "      <td>1.438729e+04</td>\n",
              "      <td>9.125391e+04</td>\n",
              "      <td>...</td>\n",
              "      <td>4.032677</td>\n",
              "      <td>8.322964</td>\n",
              "      <td>0.012819</td>\n",
              "      <td>0.012850</td>\n",
              "      <td>0.132005</td>\n",
              "      <td>6.800045</td>\n",
              "      <td>9.121049</td>\n",
              "      <td>0.014274</td>\n",
              "      <td>NaN</td>\n",
              "      <td>0.639077</td>\n",
              "    </tr>\n",
              "    <tr>\n",
              "      <th>std</th>\n",
              "      <td>48929.917641</td>\n",
              "      <td>5.974305</td>\n",
              "      <td>NaN</td>\n",
              "      <td>NaN</td>\n",
              "      <td>NaN</td>\n",
              "      <td>135.947152</td>\n",
              "      <td>111.985965</td>\n",
              "      <td>1.737739e+05</td>\n",
              "      <td>1.461993e+05</td>\n",
              "      <td>1.603446e+05</td>\n",
              "      <td>...</td>\n",
              "      <td>5.831515</td>\n",
              "      <td>11.120754</td>\n",
              "      <td>0.116091</td>\n",
              "      <td>0.116421</td>\n",
              "      <td>0.681854</td>\n",
              "      <td>8.396266</td>\n",
              "      <td>10.874752</td>\n",
              "      <td>0.118618</td>\n",
              "      <td>NaN</td>\n",
              "      <td>0.480269</td>\n",
              "    </tr>\n",
              "    <tr>\n",
              "      <th>min</th>\n",
              "      <td>1.000000</td>\n",
              "      <td>0.000000</td>\n",
              "      <td>NaN</td>\n",
              "      <td>NaN</td>\n",
              "      <td>NaN</td>\n",
              "      <td>1.000000</td>\n",
              "      <td>0.000000</td>\n",
              "      <td>2.400000e+01</td>\n",
              "      <td>0.000000e+00</td>\n",
              "      <td>0.000000e+00</td>\n",
              "      <td>...</td>\n",
              "      <td>1.000000</td>\n",
              "      <td>1.000000</td>\n",
              "      <td>0.000000</td>\n",
              "      <td>0.000000</td>\n",
              "      <td>0.000000</td>\n",
              "      <td>1.000000</td>\n",
              "      <td>1.000000</td>\n",
              "      <td>0.000000</td>\n",
              "      <td>NaN</td>\n",
              "      <td>0.000000</td>\n",
              "    </tr>\n",
              "    <tr>\n",
              "      <th>25%</th>\n",
              "      <td>32210.000000</td>\n",
              "      <td>0.000008</td>\n",
              "      <td>NaN</td>\n",
              "      <td>NaN</td>\n",
              "      <td>NaN</td>\n",
              "      <td>2.000000</td>\n",
              "      <td>0.000000</td>\n",
              "      <td>1.140000e+02</td>\n",
              "      <td>0.000000e+00</td>\n",
              "      <td>3.078928e+01</td>\n",
              "      <td>...</td>\n",
              "      <td>1.000000</td>\n",
              "      <td>1.000000</td>\n",
              "      <td>0.000000</td>\n",
              "      <td>0.000000</td>\n",
              "      <td>0.000000</td>\n",
              "      <td>2.000000</td>\n",
              "      <td>2.000000</td>\n",
              "      <td>0.000000</td>\n",
              "      <td>NaN</td>\n",
              "      <td>0.000000</td>\n",
              "    </tr>\n",
              "    <tr>\n",
              "      <th>50%</th>\n",
              "      <td>64419.000000</td>\n",
              "      <td>0.004285</td>\n",
              "      <td>NaN</td>\n",
              "      <td>NaN</td>\n",
              "      <td>NaN</td>\n",
              "      <td>4.000000</td>\n",
              "      <td>2.000000</td>\n",
              "      <td>5.280000e+02</td>\n",
              "      <td>1.780000e+02</td>\n",
              "      <td>2.955665e+03</td>\n",
              "      <td>...</td>\n",
              "      <td>1.000000</td>\n",
              "      <td>3.000000</td>\n",
              "      <td>0.000000</td>\n",
              "      <td>0.000000</td>\n",
              "      <td>0.000000</td>\n",
              "      <td>3.000000</td>\n",
              "      <td>4.000000</td>\n",
              "      <td>0.000000</td>\n",
              "      <td>NaN</td>\n",
              "      <td>1.000000</td>\n",
              "    </tr>\n",
              "    <tr>\n",
              "      <th>75%</th>\n",
              "      <td>110923.000000</td>\n",
              "      <td>0.685777</td>\n",
              "      <td>NaN</td>\n",
              "      <td>NaN</td>\n",
              "      <td>NaN</td>\n",
              "      <td>12.000000</td>\n",
              "      <td>10.000000</td>\n",
              "      <td>1.362000e+03</td>\n",
              "      <td>1.064000e+03</td>\n",
              "      <td>1.250000e+05</td>\n",
              "      <td>...</td>\n",
              "      <td>3.000000</td>\n",
              "      <td>8.000000</td>\n",
              "      <td>0.000000</td>\n",
              "      <td>0.000000</td>\n",
              "      <td>0.000000</td>\n",
              "      <td>8.000000</td>\n",
              "      <td>11.000000</td>\n",
              "      <td>0.000000</td>\n",
              "      <td>NaN</td>\n",
              "      <td>1.000000</td>\n",
              "    </tr>\n",
              "    <tr>\n",
              "      <th>max</th>\n",
              "      <td>175341.000000</td>\n",
              "      <td>59.999989</td>\n",
              "      <td>NaN</td>\n",
              "      <td>NaN</td>\n",
              "      <td>NaN</td>\n",
              "      <td>10646.000000</td>\n",
              "      <td>11018.000000</td>\n",
              "      <td>1.435577e+07</td>\n",
              "      <td>1.465753e+07</td>\n",
              "      <td>1.000000e+06</td>\n",
              "      <td>...</td>\n",
              "      <td>46.000000</td>\n",
              "      <td>65.000000</td>\n",
              "      <td>4.000000</td>\n",
              "      <td>4.000000</td>\n",
              "      <td>30.000000</td>\n",
              "      <td>60.000000</td>\n",
              "      <td>62.000000</td>\n",
              "      <td>1.000000</td>\n",
              "      <td>NaN</td>\n",
              "      <td>1.000000</td>\n",
              "    </tr>\n",
              "  </tbody>\n",
              "</table>\n",
              "<p>11 rows × 45 columns</p>\n",
              "</div>\n",
              "    <div class=\"colab-df-buttons\">\n",
              "\n",
              "  <div class=\"colab-df-container\">\n",
              "    <button class=\"colab-df-convert\" onclick=\"convertToInteractive('df-ef8bc90a-ffef-4a6b-bb1c-793146d6102b')\"\n",
              "            title=\"Convert this dataframe to an interactive table.\"\n",
              "            style=\"display:none;\">\n",
              "\n",
              "  <svg xmlns=\"http://www.w3.org/2000/svg\" height=\"24px\" viewBox=\"0 -960 960 960\">\n",
              "    <path d=\"M120-120v-720h720v720H120Zm60-500h600v-160H180v160Zm220 220h160v-160H400v160Zm0 220h160v-160H400v160ZM180-400h160v-160H180v160Zm440 0h160v-160H620v160ZM180-180h160v-160H180v160Zm440 0h160v-160H620v160Z\"/>\n",
              "  </svg>\n",
              "    </button>\n",
              "\n",
              "  <style>\n",
              "    .colab-df-container {\n",
              "      display:flex;\n",
              "      gap: 12px;\n",
              "    }\n",
              "\n",
              "    .colab-df-convert {\n",
              "      background-color: #E8F0FE;\n",
              "      border: none;\n",
              "      border-radius: 50%;\n",
              "      cursor: pointer;\n",
              "      display: none;\n",
              "      fill: #1967D2;\n",
              "      height: 32px;\n",
              "      padding: 0 0 0 0;\n",
              "      width: 32px;\n",
              "    }\n",
              "\n",
              "    .colab-df-convert:hover {\n",
              "      background-color: #E2EBFA;\n",
              "      box-shadow: 0px 1px 2px rgba(60, 64, 67, 0.3), 0px 1px 3px 1px rgba(60, 64, 67, 0.15);\n",
              "      fill: #174EA6;\n",
              "    }\n",
              "\n",
              "    .colab-df-buttons div {\n",
              "      margin-bottom: 4px;\n",
              "    }\n",
              "\n",
              "    [theme=dark] .colab-df-convert {\n",
              "      background-color: #3B4455;\n",
              "      fill: #D2E3FC;\n",
              "    }\n",
              "\n",
              "    [theme=dark] .colab-df-convert:hover {\n",
              "      background-color: #434B5C;\n",
              "      box-shadow: 0px 1px 3px 1px rgba(0, 0, 0, 0.15);\n",
              "      filter: drop-shadow(0px 1px 2px rgba(0, 0, 0, 0.3));\n",
              "      fill: #FFFFFF;\n",
              "    }\n",
              "  </style>\n",
              "\n",
              "    <script>\n",
              "      const buttonEl =\n",
              "        document.querySelector('#df-ef8bc90a-ffef-4a6b-bb1c-793146d6102b button.colab-df-convert');\n",
              "      buttonEl.style.display =\n",
              "        google.colab.kernel.accessAllowed ? 'block' : 'none';\n",
              "\n",
              "      async function convertToInteractive(key) {\n",
              "        const element = document.querySelector('#df-ef8bc90a-ffef-4a6b-bb1c-793146d6102b');\n",
              "        const dataTable =\n",
              "          await google.colab.kernel.invokeFunction('convertToInteractive',\n",
              "                                                    [key], {});\n",
              "        if (!dataTable) return;\n",
              "\n",
              "        const docLinkHtml = 'Like what you see? Visit the ' +\n",
              "          '<a target=\"_blank\" href=https://colab.research.google.com/notebooks/data_table.ipynb>data table notebook</a>'\n",
              "          + ' to learn more about interactive tables.';\n",
              "        element.innerHTML = '';\n",
              "        dataTable['output_type'] = 'display_data';\n",
              "        await google.colab.output.renderOutput(dataTable, element);\n",
              "        const docLink = document.createElement('div');\n",
              "        docLink.innerHTML = docLinkHtml;\n",
              "        element.appendChild(docLink);\n",
              "      }\n",
              "    </script>\n",
              "  </div>\n",
              "\n",
              "\n",
              "<div id=\"df-0ab4eeda-b48f-4228-a3b9-7f11af8d8a6c\">\n",
              "  <button class=\"colab-df-quickchart\" onclick=\"quickchart('df-0ab4eeda-b48f-4228-a3b9-7f11af8d8a6c')\"\n",
              "            title=\"Suggest charts\"\n",
              "            style=\"display:none;\">\n",
              "\n",
              "<svg xmlns=\"http://www.w3.org/2000/svg\" height=\"24px\"viewBox=\"0 0 24 24\"\n",
              "     width=\"24px\">\n",
              "    <g>\n",
              "        <path d=\"M19 3H5c-1.1 0-2 .9-2 2v14c0 1.1.9 2 2 2h14c1.1 0 2-.9 2-2V5c0-1.1-.9-2-2-2zM9 17H7v-7h2v7zm4 0h-2V7h2v10zm4 0h-2v-4h2v4z\"/>\n",
              "    </g>\n",
              "</svg>\n",
              "  </button>\n",
              "\n",
              "<style>\n",
              "  .colab-df-quickchart {\n",
              "      --bg-color: #E8F0FE;\n",
              "      --fill-color: #1967D2;\n",
              "      --hover-bg-color: #E2EBFA;\n",
              "      --hover-fill-color: #174EA6;\n",
              "      --disabled-fill-color: #AAA;\n",
              "      --disabled-bg-color: #DDD;\n",
              "  }\n",
              "\n",
              "  [theme=dark] .colab-df-quickchart {\n",
              "      --bg-color: #3B4455;\n",
              "      --fill-color: #D2E3FC;\n",
              "      --hover-bg-color: #434B5C;\n",
              "      --hover-fill-color: #FFFFFF;\n",
              "      --disabled-bg-color: #3B4455;\n",
              "      --disabled-fill-color: #666;\n",
              "  }\n",
              "\n",
              "  .colab-df-quickchart {\n",
              "    background-color: var(--bg-color);\n",
              "    border: none;\n",
              "    border-radius: 50%;\n",
              "    cursor: pointer;\n",
              "    display: none;\n",
              "    fill: var(--fill-color);\n",
              "    height: 32px;\n",
              "    padding: 0;\n",
              "    width: 32px;\n",
              "  }\n",
              "\n",
              "  .colab-df-quickchart:hover {\n",
              "    background-color: var(--hover-bg-color);\n",
              "    box-shadow: 0 1px 2px rgba(60, 64, 67, 0.3), 0 1px 3px 1px rgba(60, 64, 67, 0.15);\n",
              "    fill: var(--button-hover-fill-color);\n",
              "  }\n",
              "\n",
              "  .colab-df-quickchart-complete:disabled,\n",
              "  .colab-df-quickchart-complete:disabled:hover {\n",
              "    background-color: var(--disabled-bg-color);\n",
              "    fill: var(--disabled-fill-color);\n",
              "    box-shadow: none;\n",
              "  }\n",
              "\n",
              "  .colab-df-spinner {\n",
              "    border: 2px solid var(--fill-color);\n",
              "    border-color: transparent;\n",
              "    border-bottom-color: var(--fill-color);\n",
              "    animation:\n",
              "      spin 1s steps(1) infinite;\n",
              "  }\n",
              "\n",
              "  @keyframes spin {\n",
              "    0% {\n",
              "      border-color: transparent;\n",
              "      border-bottom-color: var(--fill-color);\n",
              "      border-left-color: var(--fill-color);\n",
              "    }\n",
              "    20% {\n",
              "      border-color: transparent;\n",
              "      border-left-color: var(--fill-color);\n",
              "      border-top-color: var(--fill-color);\n",
              "    }\n",
              "    30% {\n",
              "      border-color: transparent;\n",
              "      border-left-color: var(--fill-color);\n",
              "      border-top-color: var(--fill-color);\n",
              "      border-right-color: var(--fill-color);\n",
              "    }\n",
              "    40% {\n",
              "      border-color: transparent;\n",
              "      border-right-color: var(--fill-color);\n",
              "      border-top-color: var(--fill-color);\n",
              "    }\n",
              "    60% {\n",
              "      border-color: transparent;\n",
              "      border-right-color: var(--fill-color);\n",
              "    }\n",
              "    80% {\n",
              "      border-color: transparent;\n",
              "      border-right-color: var(--fill-color);\n",
              "      border-bottom-color: var(--fill-color);\n",
              "    }\n",
              "    90% {\n",
              "      border-color: transparent;\n",
              "      border-bottom-color: var(--fill-color);\n",
              "    }\n",
              "  }\n",
              "</style>\n",
              "\n",
              "  <script>\n",
              "    async function quickchart(key) {\n",
              "      const quickchartButtonEl =\n",
              "        document.querySelector('#' + key + ' button');\n",
              "      quickchartButtonEl.disabled = true;  // To prevent multiple clicks.\n",
              "      quickchartButtonEl.classList.add('colab-df-spinner');\n",
              "      try {\n",
              "        const charts = await google.colab.kernel.invokeFunction(\n",
              "            'suggestCharts', [key], {});\n",
              "      } catch (error) {\n",
              "        console.error('Error during call to suggestCharts:', error);\n",
              "      }\n",
              "      quickchartButtonEl.classList.remove('colab-df-spinner');\n",
              "      quickchartButtonEl.classList.add('colab-df-quickchart-complete');\n",
              "    }\n",
              "    (() => {\n",
              "      let quickchartButtonEl =\n",
              "        document.querySelector('#df-0ab4eeda-b48f-4228-a3b9-7f11af8d8a6c button');\n",
              "      quickchartButtonEl.style.display =\n",
              "        google.colab.kernel.accessAllowed ? 'block' : 'none';\n",
              "    })();\n",
              "  </script>\n",
              "</div>\n",
              "\n",
              "    </div>\n",
              "  </div>\n"
            ],
            "application/vnd.google.colaboratory.intrinsic+json": {
              "type": "dataframe"
            }
          },
          "metadata": {},
          "execution_count": 11
        }
      ],
      "source": [
        "data.describe(include='all')"
      ]
    },
    {
      "cell_type": "code",
      "execution_count": null,
      "metadata": {
        "colab": {
          "base_uri": "https://localhost:8080/"
        },
        "id": "BsAnA61M4-hz",
        "outputId": "eccab547-450b-4804-fd34-3fff99a3cbaf"
      },
      "outputs": [
        {
          "output_type": "stream",
          "name": "stdout",
          "text": [
            "After dropping missing values:\n",
            "<class 'pandas.core.frame.DataFrame'>\n",
            "Index: 257673 entries, 0 to 82331\n",
            "Data columns (total 45 columns):\n",
            " #   Column             Non-Null Count   Dtype  \n",
            "---  ------             --------------   -----  \n",
            " 0   id                 257673 non-null  int64  \n",
            " 1   dur                257673 non-null  float64\n",
            " 2   proto              257673 non-null  object \n",
            " 3   service            257673 non-null  object \n",
            " 4   state              257673 non-null  object \n",
            " 5   spkts              257673 non-null  int64  \n",
            " 6   dpkts              257673 non-null  int64  \n",
            " 7   sbytes             257673 non-null  int64  \n",
            " 8   dbytes             257673 non-null  int64  \n",
            " 9   rate               257673 non-null  float64\n",
            " 10  sttl               257673 non-null  int64  \n",
            " 11  dttl               257673 non-null  int64  \n",
            " 12  sload              257673 non-null  float64\n",
            " 13  dload              257673 non-null  float64\n",
            " 14  sloss              257673 non-null  int64  \n",
            " 15  dloss              257673 non-null  int64  \n",
            " 16  sinpkt             257673 non-null  float64\n",
            " 17  dinpkt             257673 non-null  float64\n",
            " 18  sjit               257673 non-null  float64\n",
            " 19  djit               257673 non-null  float64\n",
            " 20  swin               257673 non-null  int64  \n",
            " 21  stcpb              257673 non-null  int64  \n",
            " 22  dtcpb              257673 non-null  int64  \n",
            " 23  dwin               257673 non-null  int64  \n",
            " 24  tcprtt             257673 non-null  float64\n",
            " 25  synack             257673 non-null  float64\n",
            " 26  ackdat             257673 non-null  float64\n",
            " 27  smean              257673 non-null  int64  \n",
            " 28  dmean              257673 non-null  int64  \n",
            " 29  trans_depth        257673 non-null  int64  \n",
            " 30  response_body_len  257673 non-null  int64  \n",
            " 31  ct_srv_src         257673 non-null  int64  \n",
            " 32  ct_state_ttl       257673 non-null  int64  \n",
            " 33  ct_dst_ltm         257673 non-null  int64  \n",
            " 34  ct_src_dport_ltm   257673 non-null  int64  \n",
            " 35  ct_dst_sport_ltm   257673 non-null  int64  \n",
            " 36  ct_dst_src_ltm     257673 non-null  int64  \n",
            " 37  is_ftp_login       257673 non-null  int64  \n",
            " 38  ct_ftp_cmd         257673 non-null  int64  \n",
            " 39  ct_flw_http_mthd   257673 non-null  int64  \n",
            " 40  ct_src_ltm         257673 non-null  int64  \n",
            " 41  ct_srv_dst         257673 non-null  int64  \n",
            " 42  is_sm_ips_ports    257673 non-null  int64  \n",
            " 43  attack_cat         257673 non-null  object \n",
            " 44  label              257673 non-null  int64  \n",
            "dtypes: float64(11), int64(30), object(4)\n",
            "memory usage: 90.4+ MB\n",
            "None\n"
          ]
        }
      ],
      "source": [
        "# Display basic information about the dataset after dropping missing values\n",
        "print(\"After dropping missing values:\")\n",
        "print(data.info())"
      ]
    },
    {
      "cell_type": "code",
      "execution_count": null,
      "metadata": {
        "id": "Zmjqz0vp5DQ7"
      },
      "outputs": [],
      "source": [
        "# Drop columns with missing values\n",
        "data_cleaned_columns = data.dropna(axis=1)"
      ]
    },
    {
      "cell_type": "code",
      "execution_count": null,
      "metadata": {
        "id": "7830pIc8zl8S"
      },
      "outputs": [],
      "source": [
        "# Splitting features and labels\n",
        "X = data.drop(columns=['attack_cat'])  # Features\n",
        "y = data['attack_cat']  # Labels"
      ]
    },
    {
      "cell_type": "code",
      "execution_count": null,
      "metadata": {
        "colab": {
          "base_uri": "https://localhost:8080/"
        },
        "id": "NzfMzuiDLzlW",
        "outputId": "f6871fb2-a4e8-4d2e-c32a-8be755407bd6"
      },
      "outputs": [
        {
          "output_type": "stream",
          "name": "stdout",
          "text": [
            "   id       dur proto service state  spkts  dpkts  sbytes  dbytes       rate  \\\n",
            "0   1  0.121478   tcp       -   FIN      6      4     258     172  74.087490   \n",
            "1   2  0.649902   tcp       -   FIN     14     38     734   42014  78.473372   \n",
            "2   3  1.623129   tcp       -   FIN      8     16     364   13186  14.170161   \n",
            "3   4  1.681642   tcp     ftp   FIN     12     12     628     770  13.677108   \n",
            "4   5  0.449454   tcp       -   FIN     10      6     534     268  33.373826   \n",
            "\n",
            "   ...  ct_src_dport_ltm  ct_dst_sport_ltm  ct_dst_src_ltm  is_ftp_login  \\\n",
            "0  ...                 1                 1               1             0   \n",
            "1  ...                 1                 1               2             0   \n",
            "2  ...                 1                 1               3             0   \n",
            "3  ...                 1                 1               3             1   \n",
            "4  ...                 2                 1              40             0   \n",
            "\n",
            "   ct_ftp_cmd  ct_flw_http_mthd  ct_src_ltm  ct_srv_dst  is_sm_ips_ports  \\\n",
            "0           0                 0           1           1                0   \n",
            "1           0                 0           1           6                0   \n",
            "2           0                 0           2           6                0   \n",
            "3           1                 0           2           1                0   \n",
            "4           0                 0           2          39                0   \n",
            "\n",
            "   label  \n",
            "0      0  \n",
            "1      0  \n",
            "2      0  \n",
            "3      0  \n",
            "4      0  \n",
            "\n",
            "[5 rows x 44 columns]\n",
            "0    Normal\n",
            "1    Normal\n",
            "2    Normal\n",
            "3    Normal\n",
            "4    Normal\n",
            "Name: attack_cat, dtype: object\n"
          ]
        }
      ],
      "source": [
        "# Display processed data\n",
        "print(X.head())\n",
        "print(y.head())"
      ]
    },
    {
      "cell_type": "code",
      "execution_count": null,
      "metadata": {
        "id": "rc9jb-ab5Sq_"
      },
      "outputs": [],
      "source": [
        "# Select only numerical features for scaling\n",
        "numerical_features = data.select_dtypes(include=['int64', 'float64'])\n",
        "\n",
        "# Initialize the StandardScaler\n",
        "scaler = StandardScaler()\n",
        "\n",
        "# Fit the scaler on the numerical features and transform them\n",
        "features_scaled = scaler.fit_transform(numerical_features)"
      ]
    },
    {
      "cell_type": "code",
      "execution_count": null,
      "metadata": {
        "id": "ptqSPo_o5agi"
      },
      "outputs": [],
      "source": [
        "from sklearn.preprocessing import OneHotEncoder\n",
        "from imblearn.over_sampling import SMOTE"
      ]
    },
    {
      "cell_type": "code",
      "execution_count": null,
      "metadata": {
        "id": "Aatwj_QA5b1T"
      },
      "outputs": [],
      "source": [
        "# Encoding categorical features\n",
        "categorical_features = data.select_dtypes(include=['object'])"
      ]
    },
    {
      "cell_type": "code",
      "execution_count": null,
      "metadata": {
        "id": "S5LbccB95ej_"
      },
      "outputs": [],
      "source": [
        "# Use OneHotEncoder for categorical features\n",
        "encoder = OneHotEncoder(drop='first', sparse_output=False)\n",
        "categorical_encoded = encoder.fit_transform(categorical_features)"
      ]
    },
    {
      "cell_type": "code",
      "execution_count": null,
      "metadata": {
        "id": "PEERQ26l5h9i"
      },
      "outputs": [],
      "source": [
        "# Combine scaled numerical features with encoded categorical features\n",
        "import numpy as np\n",
        "features_combined = np.hstack((features_scaled, categorical_encoded))"
      ]
    },
    {
      "cell_type": "code",
      "execution_count": null,
      "metadata": {
        "id": "n1J3SLVG5mg9"
      },
      "outputs": [],
      "source": [
        "# Label Encoding for the target variable if it is categorical\n",
        "label_encoder_attack = LabelEncoder()\n",
        "labels_encoded = label_encoder_attack.fit_transform(y)"
      ]
    },
    {
      "cell_type": "code",
      "execution_count": null,
      "metadata": {
        "id": "lvTTY0oL50k3"
      },
      "outputs": [],
      "source": [
        "# Split the dataset into training and testing sets\n",
        "X_train, X_test, y_train, y_test = train_test_split(features_combined, labels_encoded, test_size=0.2, random_state=42)"
      ]
    },
    {
      "cell_type": "code",
      "execution_count": null,
      "metadata": {
        "id": "yAeh0ODf55aY"
      },
      "outputs": [],
      "source": [
        "# Apply SMOTE to the training set only\n",
        "smote = SMOTE(random_state=42)\n",
        "X_train_resampled, y_train_resampled = smote.fit_resample(X_train, y_train)"
      ]
    },
    {
      "cell_type": "code",
      "execution_count": null,
      "metadata": {
        "colab": {
          "base_uri": "https://localhost:8080/"
        },
        "id": "OKRWLT_B58Ob",
        "outputId": "1661bec1-0946-44f2-e428-98ecc6e24ca8"
      },
      "outputs": [
        {
          "output_type": "stream",
          "name": "stdout",
          "text": [
            "Class distribution before SMOTE:\n",
            "6    74387\n",
            "5    47334\n",
            "3    35445\n",
            "4    19415\n",
            "2    13061\n",
            "7    11135\n",
            "0     2158\n",
            "1     1861\n",
            "8     1202\n",
            "9      140\n",
            "Name: count, dtype: int64\n"
          ]
        }
      ],
      "source": [
        "# Value counts for each class before SMOTE\n",
        "before_smote_counts = pd.Series(y_train).value_counts()\n",
        "print(\"Class distribution before SMOTE:\")\n",
        "print(before_smote_counts)"
      ]
    },
    {
      "cell_type": "code",
      "execution_count": null,
      "metadata": {
        "colab": {
          "base_uri": "https://localhost:8080/"
        },
        "id": "yUrRpAPG6Oz5",
        "outputId": "8a01b42a-8951-4c13-9019-b06adb9eea4b"
      },
      "outputs": [
        {
          "output_type": "stream",
          "name": "stdout",
          "text": [
            "Class distribution after SMOTE:\n",
            "3    74387\n",
            "5    74387\n",
            "6    74387\n",
            "4    74387\n",
            "2    74387\n",
            "7    74387\n",
            "0    74387\n",
            "8    74387\n",
            "1    74387\n",
            "9    74387\n",
            "Name: count, dtype: int64\n"
          ]
        }
      ],
      "source": [
        "# Value counts for each class after SMOTE\n",
        "after_smote_counts = pd.Series(y_train_resampled).value_counts()\n",
        "print(\"Class distribution after SMOTE:\")\n",
        "print(after_smote_counts)\n"
      ]
    },
    {
      "cell_type": "code",
      "execution_count": null,
      "metadata": {
        "id": "cw5-mz2h6jVA"
      },
      "outputs": [],
      "source": [
        "from tensorflow.keras import layers, models\n",
        "\n",
        "# Define the autoencoder model\n",
        "input_dim = X_train_resampled.shape[1]\n",
        "encoding_dim = 7"
      ]
    },
    {
      "cell_type": "code",
      "execution_count": null,
      "metadata": {
        "colab": {
          "base_uri": "https://localhost:8080/"
        },
        "id": "M1fObk6S6aGo",
        "outputId": "08eaf668-9606-458d-e96d-6ce7c535ee4c"
      },
      "outputs": [
        {
          "output_type": "stream",
          "name": "stdout",
          "text": [
            "Epoch 1/20\n",
            "\u001b[1m11623/11623\u001b[0m \u001b[32m━━━━━━━━━━━━━━━━━━━━\u001b[0m\u001b[37m\u001b[0m \u001b[1m23s\u001b[0m 2ms/step - loss: 0.1428 - val_loss: 0.1474\n",
            "Epoch 2/20\n",
            "\u001b[1m11623/11623\u001b[0m \u001b[32m━━━━━━━━━━━━━━━━━━━━\u001b[0m\u001b[37m\u001b[0m \u001b[1m37s\u001b[0m 2ms/step - loss: 0.1195 - val_loss: 0.1460\n",
            "Epoch 3/20\n",
            "\u001b[1m11623/11623\u001b[0m \u001b[32m━━━━━━━━━━━━━━━━━━━━\u001b[0m\u001b[37m\u001b[0m \u001b[1m20s\u001b[0m 2ms/step - loss: 0.1190 - val_loss: 0.1457\n",
            "Epoch 4/20\n",
            "\u001b[1m11623/11623\u001b[0m \u001b[32m━━━━━━━━━━━━━━━━━━━━\u001b[0m\u001b[37m\u001b[0m \u001b[1m19s\u001b[0m 2ms/step - loss: 0.1201 - val_loss: 0.1454\n",
            "Epoch 5/20\n",
            "\u001b[1m11623/11623\u001b[0m \u001b[32m━━━━━━━━━━━━━━━━━━━━\u001b[0m\u001b[37m\u001b[0m \u001b[1m20s\u001b[0m 2ms/step - loss: 0.1174 - val_loss: 0.1452\n",
            "Epoch 6/20\n",
            "\u001b[1m11623/11623\u001b[0m \u001b[32m━━━━━━━━━━━━━━━━━━━━\u001b[0m\u001b[37m\u001b[0m \u001b[1m19s\u001b[0m 2ms/step - loss: 0.1188 - val_loss: 0.1450\n",
            "Epoch 7/20\n",
            "\u001b[1m11623/11623\u001b[0m \u001b[32m━━━━━━━━━━━━━━━━━━━━\u001b[0m\u001b[37m\u001b[0m \u001b[1m21s\u001b[0m 2ms/step - loss: 0.1170 - val_loss: 0.1449\n",
            "Epoch 8/20\n",
            "\u001b[1m11623/11623\u001b[0m \u001b[32m━━━━━━━━━━━━━━━━━━━━\u001b[0m\u001b[37m\u001b[0m \u001b[1m20s\u001b[0m 2ms/step - loss: 0.1175 - val_loss: 0.1448\n",
            "Epoch 9/20\n",
            "\u001b[1m11623/11623\u001b[0m \u001b[32m━━━━━━━━━━━━━━━━━━━━\u001b[0m\u001b[37m\u001b[0m \u001b[1m19s\u001b[0m 2ms/step - loss: 0.1192 - val_loss: 0.1447\n",
            "Epoch 10/20\n",
            "\u001b[1m11623/11623\u001b[0m \u001b[32m━━━━━━━━━━━━━━━━━━━━\u001b[0m\u001b[37m\u001b[0m \u001b[1m21s\u001b[0m 2ms/step - loss: 0.1171 - val_loss: 0.1447\n",
            "Epoch 11/20\n",
            "\u001b[1m11623/11623\u001b[0m \u001b[32m━━━━━━━━━━━━━━━━━━━━\u001b[0m\u001b[37m\u001b[0m \u001b[1m21s\u001b[0m 2ms/step - loss: 0.1150 - val_loss: 0.1446\n",
            "Epoch 12/20\n",
            "\u001b[1m11623/11623\u001b[0m \u001b[32m━━━━━━━━━━━━━━━━━━━━\u001b[0m\u001b[37m\u001b[0m \u001b[1m19s\u001b[0m 2ms/step - loss: 0.1169 - val_loss: 0.1446\n",
            "Epoch 13/20\n",
            "\u001b[1m11623/11623\u001b[0m \u001b[32m━━━━━━━━━━━━━━━━━━━━\u001b[0m\u001b[37m\u001b[0m \u001b[1m21s\u001b[0m 2ms/step - loss: 0.1184 - val_loss: 0.1446\n",
            "Epoch 14/20\n",
            "\u001b[1m11623/11623\u001b[0m \u001b[32m━━━━━━━━━━━━━━━━━━━━\u001b[0m\u001b[37m\u001b[0m \u001b[1m19s\u001b[0m 2ms/step - loss: 0.1157 - val_loss: 0.1446\n",
            "Epoch 15/20\n",
            "\u001b[1m11623/11623\u001b[0m \u001b[32m━━━━━━━━━━━━━━━━━━━━\u001b[0m\u001b[37m\u001b[0m \u001b[1m22s\u001b[0m 2ms/step - loss: 0.1173 - val_loss: 0.1445\n",
            "Epoch 16/20\n",
            "\u001b[1m11623/11623\u001b[0m \u001b[32m━━━━━━━━━━━━━━━━━━━━\u001b[0m\u001b[37m\u001b[0m \u001b[1m19s\u001b[0m 2ms/step - loss: 0.1162 - val_loss: 0.1445\n",
            "Epoch 17/20\n",
            "\u001b[1m11623/11623\u001b[0m \u001b[32m━━━━━━━━━━━━━━━━━━━━\u001b[0m\u001b[37m\u001b[0m \u001b[1m22s\u001b[0m 2ms/step - loss: 0.1179 - val_loss: 0.1445\n",
            "Epoch 18/20\n",
            "\u001b[1m11623/11623\u001b[0m \u001b[32m━━━━━━━━━━━━━━━━━━━━\u001b[0m\u001b[37m\u001b[0m \u001b[1m19s\u001b[0m 2ms/step - loss: 0.1183 - val_loss: 0.1445\n",
            "Epoch 19/20\n",
            "\u001b[1m11623/11623\u001b[0m \u001b[32m━━━━━━━━━━━━━━━━━━━━\u001b[0m\u001b[37m\u001b[0m \u001b[1m22s\u001b[0m 2ms/step - loss: 0.1144 - val_loss: 0.1444\n",
            "Epoch 20/20\n",
            "\u001b[1m11623/11623\u001b[0m \u001b[32m━━━━━━━━━━━━━━━━━━━━\u001b[0m\u001b[37m\u001b[0m \u001b[1m19s\u001b[0m 2ms/step - loss: 0.1160 - val_loss: 0.1444\n"
          ]
        }
      ],
      "source": [
        "input_layer = layers.Input(shape=(input_dim,))\n",
        "encoded = layers.Dense(encoding_dim, activation='relu')(input_layer)\n",
        "decoded = layers.Dense(input_dim, activation='sigmoid')(encoded)\n",
        "\n",
        "autoencoder = models.Model(input_layer, decoded)\n",
        "autoencoder.compile(optimizer='adam', loss='mse')\n",
        "\n",
        "# Train the autoencoder\n",
        "autoencoder.fit(X_train_resampled, X_train_resampled, epochs=20, batch_size=64, shuffle=True, validation_data=(X_test, X_test))\n",
        "\n",
        "# Extract the encoder part\n",
        "encoder_model = models.Model(input_layer, encoded)\n"
      ]
    },
    {
      "cell_type": "code",
      "execution_count": null,
      "metadata": {
        "colab": {
          "base_uri": "https://localhost:8080/"
        },
        "id": "oRtb0lo97OnO",
        "outputId": "334eddf2-7d79-4b29-e0e9-3ad318f80c32"
      },
      "outputs": [
        {
          "output_type": "stream",
          "name": "stdout",
          "text": [
            "\u001b[1m23246/23246\u001b[0m \u001b[32m━━━━━━━━━━━━━━━━━━━━\u001b[0m\u001b[37m\u001b[0m \u001b[1m29s\u001b[0m 1ms/step\n",
            "\u001b[1m1611/1611\u001b[0m \u001b[32m━━━━━━━━━━━━━━━━━━━━\u001b[0m\u001b[37m\u001b[0m \u001b[1m2s\u001b[0m 1ms/step\n"
          ]
        }
      ],
      "source": [
        "# Extract the encoder part\n",
        "encoder_model = models.Model(input_layer, encoded)\n",
        "\n",
        "X_train_encoded = encoder_model.predict(X_train_resampled)\n",
        "X_test_encoded = encoder_model.predict(X_test)"
      ]
    },
    {
      "cell_type": "code",
      "execution_count": null,
      "metadata": {
        "colab": {
          "base_uri": "https://localhost:8080/",
          "height": 258
        },
        "id": "SiaqPsXT6cFH",
        "outputId": "025f27b7-3711-43e0-a78a-406bfa5e82ad"
      },
      "outputs": [
        {
          "output_type": "display_data",
          "data": {
            "text/plain": [
              "\u001b[1mModel: \"functional\"\u001b[0m\n"
            ],
            "text/html": [
              "<pre style=\"white-space:pre;overflow-x:auto;line-height:normal;font-family:Menlo,'DejaVu Sans Mono',consolas,'Courier New',monospace\"><span style=\"font-weight: bold\">Model: \"functional\"</span>\n",
              "</pre>\n"
            ]
          },
          "metadata": {}
        },
        {
          "output_type": "display_data",
          "data": {
            "text/plain": [
              "┏━━━━━━━━━━━━━━━━━━━━━━━━━━━━━━━━━━━━━━┳━━━━━━━━━━━━━━━━━━━━━━━━━━━━━┳━━━━━━━━━━━━━━━━━┓\n",
              "┃\u001b[1m \u001b[0m\u001b[1mLayer (type)                        \u001b[0m\u001b[1m \u001b[0m┃\u001b[1m \u001b[0m\u001b[1mOutput Shape               \u001b[0m\u001b[1m \u001b[0m┃\u001b[1m \u001b[0m\u001b[1m        Param #\u001b[0m\u001b[1m \u001b[0m┃\n",
              "┡━━━━━━━━━━━━━━━━━━━━━━━━━━━━━━━━━━━━━━╇━━━━━━━━━━━━━━━━━━━━━━━━━━━━━╇━━━━━━━━━━━━━━━━━┩\n",
              "│ input_layer (\u001b[38;5;33mInputLayer\u001b[0m)             │ (\u001b[38;5;45mNone\u001b[0m, \u001b[38;5;34m204\u001b[0m)                 │               \u001b[38;5;34m0\u001b[0m │\n",
              "├──────────────────────────────────────┼─────────────────────────────┼─────────────────┤\n",
              "│ dense (\u001b[38;5;33mDense\u001b[0m)                        │ (\u001b[38;5;45mNone\u001b[0m, \u001b[38;5;34m7\u001b[0m)                   │           \u001b[38;5;34m1,435\u001b[0m │\n",
              "├──────────────────────────────────────┼─────────────────────────────┼─────────────────┤\n",
              "│ dense_1 (\u001b[38;5;33mDense\u001b[0m)                      │ (\u001b[38;5;45mNone\u001b[0m, \u001b[38;5;34m204\u001b[0m)                 │           \u001b[38;5;34m1,632\u001b[0m │\n",
              "└──────────────────────────────────────┴─────────────────────────────┴─────────────────┘\n"
            ],
            "text/html": [
              "<pre style=\"white-space:pre;overflow-x:auto;line-height:normal;font-family:Menlo,'DejaVu Sans Mono',consolas,'Courier New',monospace\">┏━━━━━━━━━━━━━━━━━━━━━━━━━━━━━━━━━━━━━━┳━━━━━━━━━━━━━━━━━━━━━━━━━━━━━┳━━━━━━━━━━━━━━━━━┓\n",
              "┃<span style=\"font-weight: bold\"> Layer (type)                         </span>┃<span style=\"font-weight: bold\"> Output Shape                </span>┃<span style=\"font-weight: bold\">         Param # </span>┃\n",
              "┡━━━━━━━━━━━━━━━━━━━━━━━━━━━━━━━━━━━━━━╇━━━━━━━━━━━━━━━━━━━━━━━━━━━━━╇━━━━━━━━━━━━━━━━━┩\n",
              "│ input_layer (<span style=\"color: #0087ff; text-decoration-color: #0087ff\">InputLayer</span>)             │ (<span style=\"color: #00d7ff; text-decoration-color: #00d7ff\">None</span>, <span style=\"color: #00af00; text-decoration-color: #00af00\">204</span>)                 │               <span style=\"color: #00af00; text-decoration-color: #00af00\">0</span> │\n",
              "├──────────────────────────────────────┼─────────────────────────────┼─────────────────┤\n",
              "│ dense (<span style=\"color: #0087ff; text-decoration-color: #0087ff\">Dense</span>)                        │ (<span style=\"color: #00d7ff; text-decoration-color: #00d7ff\">None</span>, <span style=\"color: #00af00; text-decoration-color: #00af00\">7</span>)                   │           <span style=\"color: #00af00; text-decoration-color: #00af00\">1,435</span> │\n",
              "├──────────────────────────────────────┼─────────────────────────────┼─────────────────┤\n",
              "│ dense_1 (<span style=\"color: #0087ff; text-decoration-color: #0087ff\">Dense</span>)                      │ (<span style=\"color: #00d7ff; text-decoration-color: #00d7ff\">None</span>, <span style=\"color: #00af00; text-decoration-color: #00af00\">204</span>)                 │           <span style=\"color: #00af00; text-decoration-color: #00af00\">1,632</span> │\n",
              "└──────────────────────────────────────┴─────────────────────────────┴─────────────────┘\n",
              "</pre>\n"
            ]
          },
          "metadata": {}
        },
        {
          "output_type": "display_data",
          "data": {
            "text/plain": [
              "\u001b[1m Total params: \u001b[0m\u001b[38;5;34m9,203\u001b[0m (35.95 KB)\n"
            ],
            "text/html": [
              "<pre style=\"white-space:pre;overflow-x:auto;line-height:normal;font-family:Menlo,'DejaVu Sans Mono',consolas,'Courier New',monospace\"><span style=\"font-weight: bold\"> Total params: </span><span style=\"color: #00af00; text-decoration-color: #00af00\">9,203</span> (35.95 KB)\n",
              "</pre>\n"
            ]
          },
          "metadata": {}
        },
        {
          "output_type": "display_data",
          "data": {
            "text/plain": [
              "\u001b[1m Trainable params: \u001b[0m\u001b[38;5;34m3,067\u001b[0m (11.98 KB)\n"
            ],
            "text/html": [
              "<pre style=\"white-space:pre;overflow-x:auto;line-height:normal;font-family:Menlo,'DejaVu Sans Mono',consolas,'Courier New',monospace\"><span style=\"font-weight: bold\"> Trainable params: </span><span style=\"color: #00af00; text-decoration-color: #00af00\">3,067</span> (11.98 KB)\n",
              "</pre>\n"
            ]
          },
          "metadata": {}
        },
        {
          "output_type": "display_data",
          "data": {
            "text/plain": [
              "\u001b[1m Non-trainable params: \u001b[0m\u001b[38;5;34m0\u001b[0m (0.00 B)\n"
            ],
            "text/html": [
              "<pre style=\"white-space:pre;overflow-x:auto;line-height:normal;font-family:Menlo,'DejaVu Sans Mono',consolas,'Courier New',monospace\"><span style=\"font-weight: bold\"> Non-trainable params: </span><span style=\"color: #00af00; text-decoration-color: #00af00\">0</span> (0.00 B)\n",
              "</pre>\n"
            ]
          },
          "metadata": {}
        },
        {
          "output_type": "display_data",
          "data": {
            "text/plain": [
              "\u001b[1m Optimizer params: \u001b[0m\u001b[38;5;34m6,136\u001b[0m (23.97 KB)\n"
            ],
            "text/html": [
              "<pre style=\"white-space:pre;overflow-x:auto;line-height:normal;font-family:Menlo,'DejaVu Sans Mono',consolas,'Courier New',monospace\"><span style=\"font-weight: bold\"> Optimizer params: </span><span style=\"color: #00af00; text-decoration-color: #00af00\">6,136</span> (23.97 KB)\n",
              "</pre>\n"
            ]
          },
          "metadata": {}
        }
      ],
      "source": [
        "# Summary of the autoencoder architecture\n",
        "autoencoder.summary()"
      ]
    },
    {
      "cell_type": "code",
      "execution_count": null,
      "metadata": {
        "colab": {
          "base_uri": "https://localhost:8080/"
        },
        "id": "biG4Rwhg75xK",
        "outputId": "cd3223e8-6402-4f63-97e4-f691132e55ee"
      },
      "outputs": [
        {
          "output_type": "stream",
          "name": "stdout",
          "text": [
            "X_train shape: (743870, 7)\n",
            "y_train shape: (206138,)\n",
            "X_test shape: (51535, 7)\n",
            "y_test shape: (51535,)\n"
          ]
        }
      ],
      "source": [
        "print(f'X_train shape: {X_train_encoded.shape}')\n",
        "print(f'y_train shape: {y_train.shape}')\n",
        "print(f'X_test shape: {X_test_encoded.shape}')\n",
        "print(f'y_test shape: {y_test.shape}')"
      ]
    },
    {
      "cell_type": "code",
      "execution_count": null,
      "metadata": {
        "colab": {
          "base_uri": "https://localhost:8080/"
        },
        "id": "13l4qkz799kV",
        "outputId": "fbea5f42-a55d-41bc-c799-7c727543eccf"
      },
      "outputs": [
        {
          "output_type": "stream",
          "name": "stdout",
          "text": [
            "Reshaped X_train_tft shape: (743870, 7, 1)\n",
            "Reshaped X_test_tft shape: (51535, 7, 1)\n"
          ]
        }
      ],
      "source": [
        "\n",
        "X_train_tft = X_train_encoded.reshape((X_train_encoded.shape[0], 7, 1))\n",
        "X_test_tft = X_test_encoded.reshape((X_test_encoded.shape[0], 7, 1))\n",
        "\n",
        "print(f\"Reshaped X_train_tft shape: {X_train_tft.shape}\")\n",
        "print(f\"Reshaped X_test_tft shape: {X_test_tft.shape}\")"
      ]
    },
    {
      "cell_type": "code",
      "execution_count": null,
      "metadata": {
        "colab": {
          "base_uri": "https://localhost:8080/"
        },
        "id": "CjTQdww5_Bbt",
        "outputId": "49979fce-cdb7-40d9-e868-f63b36736a67"
      },
      "outputs": [
        {
          "output_type": "stream",
          "name": "stdout",
          "text": [
            "X_train_tft shape: (743870, 7, 1)\n",
            "y_train shape: (206138,)\n",
            "X_test_tft shape: (51535, 7, 1)\n",
            "y_test shape: (51535,)\n"
          ]
        }
      ],
      "source": [
        "print(f'X_train_tft shape: {X_train_tft.shape}')\n",
        "print(f'y_train shape: {y_train.shape}')\n",
        "print(f'X_test_tft shape: {X_test_tft.shape}')\n",
        "print(f'y_test shape: {y_test.shape}')\n"
      ]
    },
    {
      "cell_type": "code",
      "execution_count": null,
      "metadata": {
        "id": "J37HGk-E-ziJ"
      },
      "outputs": [],
      "source": [
        "import numpy as np\n",
        "import tensorflow as tf\n",
        "from tensorflow.keras.layers import Input, LSTM, Dense, Dropout, MultiHeadAttention, Concatenate, LayerNormalization, Lambda\n",
        "from tensorflow.keras.models import Model\n",
        "import tensorflow.keras.backend as K\n"
      ]
    },
    {
      "cell_type": "code",
      "execution_count": null,
      "metadata": {
        "id": "dun_Q0tnP-Qu"
      },
      "outputs": [],
      "source": [
        "# Gated Residual Network (GRN)\n",
        "def GRN(x, units):\n",
        "    # Feedforward with Dense layers\n",
        "    x_in = Dense(units)(x)\n",
        "    x_in = LayerNormalization()(x_in)\n",
        "\n",
        "    # Gating mechanism\n",
        "    gating = Dense(units, activation='sigmoid')(x)\n",
        "    return x_in * gating"
      ]
    },
    {
      "cell_type": "code",
      "execution_count": null,
      "metadata": {
        "id": "SKm4XHjjP1Pm"
      },
      "outputs": [],
      "source": [
        "# Temporal Attention Layer\n",
        "def temporal_attention(inputs, units):\n",
        "    attn_output = MultiHeadAttention(num_heads=2, key_dim=units)(inputs, inputs)\n",
        "    return attn_output"
      ]
    },
    {
      "cell_type": "code",
      "execution_count": null,
      "metadata": {
        "id": "TL6v0R9ZMaKB"
      },
      "outputs": [],
      "source": [
        "# Define the TFT model with LSTM, Temporal Attention, and GRN\n",
        "def build_tft_model(input_shape, num_classes):\n",
        "    # Input layer for dynamic features (time-series)\n",
        "    dynamic_inputs = Input(shape=(input_shape[0], input_shape[1]), name=\"dynamic_inputs\")\n",
        "\n",
        "    # LSTM Encoder for dynamic features\n",
        "    lstm_encoded = LSTM(32, return_sequences=True)(dynamic_inputs)  # Keep return_sequences=True for attention\n",
        "    lstm_encoded = Dropout(0.4)(lstm_encoded)\n",
        "\n",
        "    # Apply Temporal Attention to LSTM output\n",
        "    attention_output = temporal_attention(lstm_encoded, units=32)\n",
        "    attention_output = Dropout(0.4)(attention_output)\n",
        "\n",
        "    # Apply GRN to attention output\n",
        "    grn_output = GRN(attention_output, units=32)\n",
        "\n",
        "    # Flatten the GRN output for the final dense layers\n",
        "    flattened_output = Lambda(lambda x: K.mean(x, axis=1))(grn_output)  # Mean pooling over time\n",
        "\n",
        "    # Dense output layers\n",
        "    dense_out = Dense(32, activation='relu')(flattened_output)\n",
        "    final_output = Dense(num_classes, activation='softmax')(dense_out)\n",
        "\n",
        "    # Define the model\n",
        "    model = Model(inputs=dynamic_inputs, outputs=final_output)\n",
        "    model.compile(optimizer='adam', loss='sparse_categorical_crossentropy', metrics=['accuracy'])\n",
        "\n",
        "    return model\n"
      ]
    },
    {
      "cell_type": "code",
      "execution_count": null,
      "metadata": {
        "id": "sWcShSYtABG1"
      },
      "outputs": [],
      "source": [
        "# 1. Instantiate the TFT Model\n",
        "num_classes = len(np.unique(y_train))  # Number of unique classes in your labels\n",
        "input_shape = (X_train_tft.shape[1], X_train_tft.shape[2])  # (timesteps, features)\n",
        "tft_model = build_tft_model(input_shape, num_classes)"
      ]
    },
    {
      "cell_type": "code",
      "execution_count": null,
      "metadata": {
        "colab": {
          "base_uri": "https://localhost:8080/"
        },
        "id": "87zBcVgEAEac",
        "outputId": "931d0e12-d2f0-417a-86ee-47523b1a90fb"
      },
      "outputs": [
        {
          "output_type": "stream",
          "name": "stdout",
          "text": [
            "Epoch 1/15\n",
            "\u001b[1m23246/23246\u001b[0m \u001b[32m━━━━━━━━━━━━━━━━━━━━\u001b[0m\u001b[37m\u001b[0m \u001b[1m209s\u001b[0m 9ms/step - accuracy: 0.9909 - loss: 0.0312 - val_accuracy: 0.9932 - val_loss: 0.0270\n",
            "Epoch 2/15\n",
            "\u001b[1m23246/23246\u001b[0m \u001b[32m━━━━━━━━━━━━━━━━━━━━\u001b[0m\u001b[37m\u001b[0m \u001b[1m257s\u001b[0m 9ms/step - accuracy: 0.9912 - loss: 0.0306 - val_accuracy: 0.9932 - val_loss: 0.0280\n",
            "Epoch 3/15\n",
            "\u001b[1m23246/23246\u001b[0m \u001b[32m━━━━━━━━━━━━━━━━━━━━\u001b[0m\u001b[37m\u001b[0m \u001b[1m258s\u001b[0m 9ms/step - accuracy: 0.9914 - loss: 0.0291 - val_accuracy: 0.9938 - val_loss: 0.0273\n",
            "Epoch 4/15\n",
            "\u001b[1m23246/23246\u001b[0m \u001b[32m━━━━━━━━━━━━━━━━━━━━\u001b[0m\u001b[37m\u001b[0m \u001b[1m203s\u001b[0m 9ms/step - accuracy: 0.9917 - loss: 0.0286 - val_accuracy: 0.9906 - val_loss: 0.0454\n",
            "Epoch 5/15\n",
            "\u001b[1m23246/23246\u001b[0m \u001b[32m━━━━━━━━━━━━━━━━━━━━\u001b[0m\u001b[37m\u001b[0m \u001b[1m206s\u001b[0m 9ms/step - accuracy: 0.9920 - loss: 0.0279 - val_accuracy: 0.9930 - val_loss: 0.0312\n",
            "Epoch 6/15\n",
            "\u001b[1m23246/23246\u001b[0m \u001b[32m━━━━━━━━━━━━━━━━━━━━\u001b[0m\u001b[37m\u001b[0m \u001b[1m257s\u001b[0m 9ms/step - accuracy: 0.9923 - loss: 0.0268 - val_accuracy: 0.9925 - val_loss: 0.0330\n",
            "Epoch 7/15\n",
            "\u001b[1m23246/23246\u001b[0m \u001b[32m━━━━━━━━━━━━━━━━━━━━\u001b[0m\u001b[37m\u001b[0m \u001b[1m200s\u001b[0m 9ms/step - accuracy: 0.9923 - loss: 0.0270 - val_accuracy: 0.9934 - val_loss: 0.0296\n",
            "Epoch 8/15\n",
            "\u001b[1m23246/23246\u001b[0m \u001b[32m━━━━━━━━━━━━━━━━━━━━\u001b[0m\u001b[37m\u001b[0m \u001b[1m201s\u001b[0m 9ms/step - accuracy: 0.9925 - loss: 0.0265 - val_accuracy: 0.9940 - val_loss: 0.0270\n",
            "Epoch 9/15\n",
            "\u001b[1m23246/23246\u001b[0m \u001b[32m━━━━━━━━━━━━━━━━━━━━\u001b[0m\u001b[37m\u001b[0m \u001b[1m202s\u001b[0m 9ms/step - accuracy: 0.9926 - loss: 0.0262 - val_accuracy: 0.9936 - val_loss: 0.0283\n",
            "Epoch 10/15\n",
            "\u001b[1m23246/23246\u001b[0m \u001b[32m━━━━━━━━━━━━━━━━━━━━\u001b[0m\u001b[37m\u001b[0m \u001b[1m201s\u001b[0m 9ms/step - accuracy: 0.9926 - loss: 0.0259 - val_accuracy: 0.9938 - val_loss: 0.0284\n",
            "Epoch 11/15\n",
            "\u001b[1m23246/23246\u001b[0m \u001b[32m━━━━━━━━━━━━━━━━━━━━\u001b[0m\u001b[37m\u001b[0m \u001b[1m204s\u001b[0m 9ms/step - accuracy: 0.9927 - loss: 0.0256 - val_accuracy: 0.9937 - val_loss: 0.0268\n",
            "Epoch 12/15\n",
            "\u001b[1m23246/23246\u001b[0m \u001b[32m━━━━━━━━━━━━━━━━━━━━\u001b[0m\u001b[37m\u001b[0m \u001b[1m203s\u001b[0m 9ms/step - accuracy: 0.9930 - loss: 0.0245 - val_accuracy: 0.9939 - val_loss: 0.0282\n",
            "Epoch 13/15\n",
            "\u001b[1m23246/23246\u001b[0m \u001b[32m━━━━━━━━━━━━━━━━━━━━\u001b[0m\u001b[37m\u001b[0m \u001b[1m258s\u001b[0m 9ms/step - accuracy: 0.9927 - loss: 0.0258 - val_accuracy: 0.9944 - val_loss: 0.0248\n",
            "Epoch 14/15\n",
            "\u001b[1m23246/23246\u001b[0m \u001b[32m━━━━━━━━━━━━━━━━━━━━\u001b[0m\u001b[37m\u001b[0m \u001b[1m197s\u001b[0m 8ms/step - accuracy: 0.9930 - loss: 0.0246 - val_accuracy: 0.9937 - val_loss: 0.0278\n",
            "Epoch 15/15\n",
            "\u001b[1m23246/23246\u001b[0m \u001b[32m━━━━━━━━━━━━━━━━━━━━\u001b[0m\u001b[37m\u001b[0m \u001b[1m213s\u001b[0m 9ms/step - accuracy: 0.9930 - loss: 0.0246 - val_accuracy: 0.9936 - val_loss: 0.0306\n"
          ]
        }
      ],
      "source": [
        "\n",
        "# 2. Train the Model\n",
        "history = tft_model.fit(X_train_tft, y_train_resampled,\n",
        "                         validation_data=(X_test_tft, y_test),\n",
        "                         epochs= 15,\n",
        "                         batch_size=32)"
      ]
    },
    {
      "cell_type": "code",
      "execution_count": null,
      "metadata": {
        "colab": {
          "base_uri": "https://localhost:8080/"
        },
        "id": "6gvSbveQOXCb",
        "outputId": "c6fc9d77-1e60-47bd-f6b4-dbb26b00083d"
      },
      "outputs": [
        {
          "output_type": "stream",
          "name": "stdout",
          "text": [
            "\u001b[1m1611/1611\u001b[0m \u001b[32m━━━━━━━━━━━━━━━━━━━━\u001b[0m\u001b[37m\u001b[0m \u001b[1m4s\u001b[0m 3ms/step - accuracy: 0.9936 - loss: 0.0302\n",
            "Test Loss: 0.03062121383845806\n",
            "Test Accuracy: 0.9935771822929382\n",
            "\u001b[1m1611/1611\u001b[0m \u001b[32m━━━━━━━━━━━━━━━━━━━━\u001b[0m\u001b[37m\u001b[0m \u001b[1m4s\u001b[0m 2ms/step\n"
          ]
        }
      ],
      "source": [
        "# 3. Evaluate the Model\n",
        "loss, accuracy = tft_model.evaluate(X_test_tft, y_test)\n",
        "print(f'Test Loss: {loss}')\n",
        "print(f'Test Accuracy: {accuracy}')\n",
        "\n",
        "# 4. Make Predictions\n",
        "y_pred = np.argmax(tft_model.predict(X_test_tft), axis=-1)\n"
      ]
    },
    {
      "cell_type": "code",
      "execution_count": null,
      "metadata": {
        "colab": {
          "base_uri": "https://localhost:8080/",
          "height": 775
        },
        "id": "Az3YNgS3A6dQ",
        "outputId": "7b252262-3d72-4521-f151-fa25d9597ced"
      },
      "outputs": [
        {
          "output_type": "stream",
          "name": "stdout",
          "text": [
            "                precision    recall  f1-score   support\n",
            "\n",
            "      Analysis       0.93      0.98      0.95       519\n",
            "      Backdoor       0.76      0.99      0.86       468\n",
            "           DoS       0.98      0.99      0.99      3292\n",
            "      Exploits       1.00      1.00      1.00      9080\n",
            "       Fuzzers       0.99      0.99      0.99      4831\n",
            "       Generic       1.00      0.98      0.99     11537\n",
            "        Normal       1.00      1.00      1.00     18613\n",
            "Reconnaissance       1.00      1.00      1.00      2852\n",
            "     Shellcode       0.98      1.00      0.99       309\n",
            "         Worms       0.73      0.97      0.84        34\n",
            "\n",
            "      accuracy                           0.99     51535\n",
            "     macro avg       0.94      0.99      0.96     51535\n",
            "  weighted avg       0.99      0.99      0.99     51535\n",
            "\n"
          ]
        },
        {
          "output_type": "display_data",
          "data": {
            "text/plain": [
              "<Figure size 1000x600 with 2 Axes>"
            ],
            "image/png": "[encoded data removed]"
          },
          "metadata": {}
        }
      ],
      "source": [
        "from sklearn.metrics import classification_report, confusion_matrix\n",
        "import seaborn as sns\n",
        "\n",
        "# Generate the classification report\n",
        "report = classification_report(y_test, y_pred, target_names=label_encoder_attack.classes_)\n",
        "print(report)\n",
        "\n",
        "# Compute the confusion matrix\n",
        "conf_matrix = confusion_matrix(y_test, y_pred)\n",
        "\n",
        "# Visualize the confusion matrix\n",
        "plt.figure(figsize=(10, 6))\n",
        "sns.heatmap(conf_matrix, annot=True, fmt='d', cmap='Blues',\n",
        "            xticklabels=label_encoder_attack.classes_, yticklabels=label_encoder_attack.classes_)\n",
        "plt.ylabel('Actual')\n",
        "plt.xlabel('Predicted')\n",
        "plt.title('Confusion Matrix')\n",
        "plt.show()\n"
      ]
    },
    {
      "cell_type": "code",
      "execution_count": null,
      "metadata": {
        "colab": {
          "base_uri": "https://localhost:8080/",
          "height": 927
        },
        "id": "ors3wuU4aZbt",
        "outputId": "f763a45d-d12d-4f92-94ca-5f64878e3ed0"
      },
      "outputs": [
        {
          "output_type": "display_data",
          "data": {
            "text/plain": [
              "<Figure size 640x480 with 1 Axes>"
            ],
            "image/png": "[encoded data removed]"
          },
          "metadata": {}
        },
        {
          "output_type": "display_data",
          "data": {
            "text/plain": [
              "<Figure size 640x480 with 1 Axes>"
            ],
            "image/png": "[encoded data removed]"
          },
          "metadata": {}
        }
      ],
      "source": [
        "import matplotlib.pyplot as plt\n",
        "\n",
        "# Accuracy plot\n",
        "plt.plot(history.history['accuracy'], label='Train Accuracy')\n",
        "plt.plot(history.history['val_accuracy'], label='Validation Accuracy')\n",
        "plt.title('Model Accuracy')\n",
        "plt.xlabel('Epochs')\n",
        "plt.ylabel('Accuracy')\n",
        "plt.legend()\n",
        "plt.show()\n",
        "\n",
        "# Loss plot\n",
        "plt.plot(history.history['loss'], label='Train Loss')\n",
        "plt.plot(history.history['val_loss'], label='Validation Loss')\n",
        "plt.title('Model Loss')\n",
        "plt.xlabel('Epochs')\n",
        "plt.ylabel('Loss')\n",
        "plt.legend()\n",
        "plt.show()\n"
      ]
    },
    {
      "cell_type": "code",
      "execution_count": null,
      "metadata": {
        "colab": {
          "base_uri": "https://localhost:8080/"
        },
        "id": "6pmZwvCginJk",
        "outputId": "f6e72e6a-8857-4c2e-e318-c748aff8e692"
      },
      "outputs": [
        {
          "output_type": "stream",
          "name": "stdout",
          "text": [
            "Average Precision (Macro): 0.94\n",
            "Average Recall (Macro): 0.99\n",
            "Average F1-Score (Macro): 0.96\n",
            "Accuracy: 0.99\n"
          ]
        }
      ],
      "source": [
        "from sklearn.metrics import classification_report, confusion_matrix\n",
        "import numpy as np\n",
        "\n",
        "# Assuming you have already generated predictions and actual values\n",
        "# y_pred is your predicted labels\n",
        "# y_test is your true labels\n",
        "\n",
        "# Generate classification report as a dictionary\n",
        "report = classification_report(y_test, y_pred, output_dict=True)\n",
        "\n",
        "# Extracting precision, recall, and F1-scores for each class\n",
        "classes = list(report.keys())[:-3]  # Exclude 'accuracy', 'macro avg', 'weighted avg'\n",
        "\n",
        "# Initialize variables for summing up performance metrics\n",
        "precision_sum = 0\n",
        "recall_sum = 0\n",
        "f1_sum = 0\n",
        "\n",
        "# Loop over each class and sum the values for precision, recall, and F1-score\n",
        "for cls in classes:\n",
        "    precision_sum += report[cls]['precision']\n",
        "    recall_sum += report[cls]['recall']\n",
        "    f1_sum += report[cls]['f1-score']\n",
        "\n",
        "# Calculate average metrics (macro average)\n",
        "n_classes = len(classes)\n",
        "average_precision = precision_sum / n_classes\n",
        "average_recall = recall_sum / n_classes\n",
        "average_f1 = f1_sum / n_classes\n",
        "\n",
        "# Display the results\n",
        "print(f'Average Precision (Macro): {average_precision:.2f}')\n",
        "print(f'Average Recall (Macro): {average_recall:.2f}')\n",
        "print(f'Average F1-Score (Macro): {average_f1:.2f}')\n",
        "\n",
        "# For accuracy, we can directly extract it\n",
        "accuracy = report['accuracy']\n",
        "print(f'Accuracy: {accuracy:.2f}')\n"
      ]
    },
    {
      "cell_type": "code",
      "execution_count": null,
      "metadata": {
        "colab": {
          "base_uri": "https://localhost:8080/"
        },
        "id": "hpuZmEH0F4e_",
        "outputId": "68bcf904-deb3-4292-d442-d27ecbfb71d1"
      },
      "outputs": [
        {
          "output_type": "stream",
          "name": "stdout",
          "text": [
            "Collecting gTTS\n",
            "  Downloading gTTS-2.5.4-py3-none-any.whl.metadata (4.1 kB)\n",
            "Collecting playsound\n",
            "  Downloading playsound-1.3.0.tar.gz (7.7 kB)\n",
            "  Preparing metadata (setup.py) ... \u001b[?25l\u001b[?25hdone\n",
            "Requirement already satisfied: requests<3,>=2.27 in /usr/local/lib/python3.10/dist-packages (from gTTS) (2.32.3)\n",
            "Requirement already satisfied: click<8.2,>=7.1 in /usr/local/lib/python3.10/dist-packages (from gTTS) (8.1.8)\n",
            "Requirement already satisfied: charset-normalizer<4,>=2 in /usr/local/lib/python3.10/dist-packages (from requests<3,>=2.27->gTTS) (3.4.1)\n",
            "Requirement already satisfied: idna<4,>=2.5 in /usr/local/lib/python3.10/dist-packages (from requests<3,>=2.27->gTTS) (3.10)\n",
            "Requirement already satisfied: urllib3<3,>=1.21.1 in /usr/local/lib/python3.10/dist-packages (from requests<3,>=2.27->gTTS) (2.3.0)\n",
            "Requirement already satisfied: certifi>=2017.4.17 in /usr/local/lib/python3.10/dist-packages (from requests<3,>=2.27->gTTS) (2024.12.14)\n",
            "Downloading gTTS-2.5.4-py3-none-any.whl (29 kB)\n",
            "Building wheels for collected packages: playsound\n",
            "  Building wheel for playsound (setup.py) ... \u001b[?25l\u001b[?25hdone\n",
            "  Created wheel for playsound: filename=playsound-1.3.0-py3-none-any.whl size=7020 sha256=64032f28fc0e313fac90c3735f4b2c6db8220a94710220497948f4330ff49501\n",
            "  Stored in directory: /root/.cache/pip/wheels/90/89/ed/2d643f4226fc8c7c9156fc28abd8051e2d2c0de37ae51ac45c\n",
            "Successfully built playsound\n",
            "Installing collected packages: playsound, gTTS\n",
            "Successfully installed gTTS-2.5.4 playsound-1.3.0\n"
          ]
        }
      ],
      "source": [
        "\n",
        "\n",
        "!pip install gTTS playsound\n"
      ]
    },
    {
      "cell_type": "code",
      "execution_count": null,
      "metadata": {
        "id": "9zbVS6hyIbrS"
      },
      "outputs": [],
      "source": [
        "!pip install pygame\n"
      ]
    },
    {
      "cell_type": "code",
      "execution_count": null,
      "metadata": {
        "id": "jVg417XLMWDf"
      },
      "outputs": [],
      "source": [
        "from gtts import gTTS\n",
        "from IPython.display import Audio, display\n",
        "\n",
        "# Function to play voice alert\n",
        "def play_voice_alert(message):\n",
        "    tts = gTTS(message)\n",
        "    filename = \"alert.mp3\"\n",
        "    tts.save(filename)\n",
        "    display(Audio(filename, autoplay=True))\n",
        "\n",
        "# Function to generate alert messages for attacks\n",
        "def generate_attack_alert_message(y_pred, y_test):\n",
        "    unique, counts = np.unique(y_pred, return_counts=True)\n",
        "    class_distribution = dict(zip(unique, counts))\n",
        "\n",
        "    message = \"Attack detection results:\\n\"\n",
        "    for cls, count in class_distribution.items():\n",
        "        accuracy = np.mean(y_pred[y_test == cls] == cls) * 100\n",
        "        message += f\"Class '{label_encoder_attack.classes_[cls]}': Detected {count} times with {accuracy:.2f}% confidence.\\n\"\n",
        "\n",
        "    return message\n",
        "\n",
        "# Generate attack alert message\n",
        "alert_message_attack = generate_attack_alert_message(y_pred, y_test)\n",
        "\n",
        "# Play voice alert\n",
        "play_voice_alert(alert_message_attack)\n",
        "\n",
        "# Print the alert message for clarity\n",
        "print(alert_message_attack)\n"
      ]
    },
    {
      "cell_type": "code",
      "execution_count": null,
      "metadata": {
        "id": "FSUj9wS5AnNT"
      },
      "outputs": [],
      "source": [
        "import numpy as np\n",
        "from sklearn.metrics import confusion_matrix, classification_report\n",
        "import seaborn as sns\n",
        "import matplotlib.pyplot as plt\n",
        "\n",
        "# Assuming y_test are the true labels and y_pred are the predicted labels\n",
        "# Generate the classification report as a dictionary for full precision\n",
        "report = classification_report(y_test, y_pred, target_names=label_encoder_attack.classes_, output_dict=True)\n",
        "\n",
        "# Compute the confusion matrix\n",
        "conf_matrix = confusion_matrix(y_test, y_pred)\n",
        "\n",
        "# Initialize a list to store metrics for each class\n",
        "class_metrics = []\n",
        "\n",
        "# Loop through each class to extract precision, recall, F1-score, support, and calculate accuracy\n",
        "for i, class_name in enumerate(label_encoder_attack.classes_):\n",
        "    if class_name not in ['accuracy', 'macro avg', 'weighted avg']:  # Exclude summary values\n",
        "        TP = conf_matrix[i, i]  # True Positives\n",
        "        FP = conf_matrix[:, i].sum() - TP  # False Positives\n",
        "        FN = conf_matrix[i, :].sum() - TP  # False Negatives\n",
        "        TN = conf_matrix.sum() - (TP + FP + FN)  # True Negatives\n",
        "\n",
        "        # Calculate accuracy for the class\n",
        "        accuracy = (TP + TN) / (TP + TN + FP + FN) if (TP + TN + FP + FN) > 0 else 0\n",
        "\n",
        "        # Append all metrics to the list\n",
        "        class_metrics.append({\n",
        "            'Class': class_name,\n",
        "            'Accuracy': accuracy,\n",
        "            'Precision': report[class_name]['precision'],\n",
        "            'Recall': report[class_name]['recall'],\n",
        "            'F1-Score': report[class_name]['f1-score'],\n",
        "            'Support': report[class_name]['support']\n",
        "        })\n",
        "\n",
        "# Print the results for each class in the desired format\n",
        "for metrics in class_metrics:\n",
        "    print(f\"Class: {metrics['Class']}\")\n",
        "    print(f\"  Accuracy: {metrics['Accuracy']:.10f}\")\n",
        "    print(f\"  Precision: {metrics['Precision']:.10f}\")\n",
        "    print(f\"  Recall: {metrics['Recall']:.10f}\")\n",
        "    print(f\"  F1-Score: {metrics['F1-Score']:.10f}\")\n",
        "    print(f\"  Support: {metrics['Support']}\\n\")\n",
        "\n",
        "# Visualize the confusion matrix\n",
        "plt.figure(figsize=(10, 6))\n",
        "sns.heatmap(conf_matrix, annot=True, fmt='d', cmap='Blues',\n",
        "            xticklabels=label_encoder_attack.classes_, yticklabels=label_encoder_attack.classes_)\n",
        "plt.ylabel('Actual')\n",
        "plt.xlabel('Predicted')\n",
        "plt.title('Confusion Matrix')\n",
        "plt.show()\n"
      ]
    },
    {
      "cell_type": "code",
      "execution_count": null,
      "metadata": {
        "id": "91naGwUNBk_-"
      },
      "outputs": [],
      "source": [
        "from sklearn.metrics import classification_report\n",
        "\n",
        "# Assuming you already have y_test (true labels) and y_pred (predicted labels)\n",
        "report = classification_report(y_test, y_pred, output_dict=True)\n",
        "\n",
        "# Initialize sums for precision, recall, and F1-score\n",
        "# Removed accuracy_sum as it's not part of the per-class metrics\n",
        "precision_sum = 0\n",
        "recall_sum = 0\n",
        "f1_sum = 0\n",
        "\n",
        "# Exclude 'accuracy', 'macro avg', 'weighted avg', and work only with class-specific metrics\n",
        "classes = list(report.keys())[:-3]  # This excludes accuracy, macro avg, weighted avg\n",
        "\n",
        "# Loop over each class to calculate the sum of precision, recall, and F1-score\n",
        "# Removed accuracy_sum from the loop as it's not in the class dictionary\n",
        "for cls in classes:\n",
        "    precision_sum += report[cls]['precision']\n",
        "    recall_sum += report[cls]['recall']\n",
        "    f1_sum += report[cls]['f1-score']\n",
        "\n",
        "# Calculate the macro average (average over all classes)\n",
        "n_classes = len(classes)\n",
        "# Calculate overall accuracy from the report\n",
        "average_accuracy = report['accuracy']\n",
        "average_precision = precision_sum / n_classes\n",
        "average_recall = recall_sum / n_classes\n",
        "average_f1_score = f1_sum / n_classes\n",
        "\n",
        "# Print the macro averages\n",
        "print(f\"Average Accuracy (Macro): {average_accuracy:.10f}\") # Changed Print to print\n",
        "print(f\"Average Precision (Macro): {average_precision:.10f}\")\n",
        "print(f\"Average Recall (Macro): {average_recall:.10f}\")\n",
        "print(f\"Average F1-Score (Macro): {average_f1_score:.10f}\")"
      ]
    },
    {
      "cell_type": "code",
      "execution_count": null,
      "metadata": {
        "id": "3szHCeh6B6Kb"
      },
      "outputs": [],
      "source": []
    }
  ],
  "metadata": {
    "accelerator": "GPU",
    "colab": {
      "gpuType": "T4",
      "provenance": []
    },
    "kernelspec": {
      "display_name": "Python 3",
      "name": "python3"
    },
    "language_info": {
      "name": "python"
    }
  },
  "nbformat": 4,
  "nbformat_minor": 0
}